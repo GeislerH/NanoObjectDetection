{
 "cells": [
  {
   "cell_type": "markdown",
   "metadata": {},
   "source": [
    "# Influence of Astigmatism\n",
    "load the library"
   ]
  },
  {
   "cell_type": "code",
   "execution_count": 29,
   "metadata": {},
   "outputs": [],
   "source": [
    "import sys\n",
    "sys.path.append(\"C:\\\\Users\\\\foersterronny\\\\Documents\\\\GitHub\") # go to parent dir\n",
    "\n",
    "import numpy as np\n",
    "import NanoObjectDetection as nd"
   ]
  },
  {
   "cell_type": "markdown",
   "metadata": {},
   "source": [
    "choose a fiber and load the parameters"
   ]
  },
  {
   "cell_type": "code",
   "execution_count": 130,
   "metadata": {},
   "outputs": [],
   "source": [
    "# parameters\n",
    "Fiber = \"ARHCF\"\n",
    "# Fiber = \"Nanobore\"\n",
    "# Fiber = \"Revolver\"\n",
    "\n",
    "\n",
    "if Fiber == \"ARHCF\":\n",
    "    R_in_fiber = 50E-6\n",
    "    R_out_fiber = np.inf\n",
    "    d_fiber = 0\n",
    "    n_media = 1.33\n",
    "    n_glass = 1.46\n",
    "\n",
    "    d_channel = 30E-6\n",
    "\n",
    "    f_tube = 165E-3\n",
    "    M_obj = 10\n",
    " \n",
    "\n",
    "elif Fiber == \"Nanobore\":\n",
    "    R_in_fiber = 300E-9\n",
    "    R_out_fiber = np.inf\n",
    "    d_fiber = 0\n",
    "    n_media = 1.33\n",
    "    n_glass = 1.46\n",
    "\n",
    "    d_channel = 2*R_in_fiber\n",
    "\n",
    "    f_tube = 165E-3\n",
    "    M_obj = 63\n",
    "    \n",
    "    \n",
    "elif Fiber == \"Revolver\":\n",
    "    # inner ring\n",
    "    R_in_fiber = 8E-6\n",
    "    R_out_fiber = -R_in_fiber\n",
    "    d_fiber = 200E-9\n",
    "    n_media = 1.33\n",
    "    n_glass = 1.46\n",
    "    \n",
    "    # outer ring\n",
    "    R_in_fiber_2 = 40E-6\n",
    "    R_out_fiber_2 = np.inf\n",
    "    d_fiber_2 = 0\n",
    "    \n",
    "    d_channel = 2*R_in_fiber\n",
    "\n",
    "    f_tube = 165E-3\n",
    "    M_obj = 20"
   ]
  },
  {
   "cell_type": "markdown",
   "metadata": {},
   "source": [
    "Calculate the focal lens of the fiber structure and the used objective\n",
    "The nanoparticle is supposed to be in the middle of the fiber (g_fiber = R_in_fiber)\n",
    "Calculate the (virutal) image of the particle"
   ]
  },
  {
   "cell_type": "code",
   "execution_count": null,
   "metadata": {},
   "outputs": [],
   "source": [
    "print(\"Used fiber: \", Fiber)\n",
    "\n",
    "f_obj = f_tube / M_obj\n",
    "\n",
    "f_fiber = nd.Theory.LensMakerEquation(R_in_fiber, R_out_fiber, d_fiber, n_media, n_glass)\n",
    "\n",
    "print(\"Focal length of fiber shell: \", \"{:.2e}\".format(f_fiber))\n",
    "\n",
    "g_fiber = R_in_fiber\n",
    "b_fiber = nd.Theory.LensEquation(f_fiber, g_fiber)"
   ]
  },
  {
   "cell_type": "markdown",
   "metadata": {},
   "source": [
    "In case the revolver fiber is used a second cylindrical lense has to be calculated - so repeat the stuff above"
   ]
  },
  {
   "cell_type": "code",
   "execution_count": null,
   "metadata": {},
   "outputs": [],
   "source": [
    "if Fiber == \"Revolver\":\n",
    "    print(\"Real object position: \", \"{:.2e}\".format(g_fiber))\n",
    "    print(\"Virtual object position (intermediate): \", \"{:.2e}\".format(b_fiber))\n",
    "\n",
    "    f_fiber_2 = nd.Theory.LensMakerEquation(R_in_fiber_2, R_out_fiber_2, d_fiber_2, n_media, n_glass)\n",
    "    print(\"Focal length of fiber shell: \", \"{:.2e}\".format(f_fiber_2))\n",
    "    \n",
    "    g_fiber_2 = -b_fiber\n",
    "    b_fiber_2 = nd.Theory.LensEquation(f_fiber_2, g_fiber_2)\n",
    "    \n",
    "    b_fiber = b_fiber_2"
   ]
  },
  {
   "cell_type": "markdown",
   "metadata": {},
   "source": [
    "Print the stuff"
   ]
  },
  {
   "cell_type": "code",
   "execution_count": 131,
   "metadata": {},
   "outputs": [
    {
     "name": "stdout",
     "output_type": "stream",
     "text": [
      "Used fiber:  ARHCF\n",
      "Focal length of fiber shell:  5.12e-04\n",
      "Real object position:  5.00e-05\n",
      "Virtual object position:  -5.54e-05\n",
      "Absolut object misplacement:  5.42e-06\n",
      "Misplacement : Channel Diameter:  1.81e-01\n",
      "\n",
      "Result: \n",
      "No astigmatism should appear\n"
     ]
    }
   ],
   "source": [
    "print(\"Real object position: \", \"{:.2e}\".format(g_fiber))\n",
    "print(\"Virtual object position: \", \"{:.2e}\".format(b_fiber))\n",
    "\n",
    "delta_pos = np.abs(b_fiber + g_fiber)\n",
    "print(\"Absolut object misplacement: \", \"{:.2e}\".format(delta_pos))\n",
    "\n",
    "rel_delta_pos = delta_pos/d_channel\n",
    "print(\"Misplacement : Channel Diameter: \", \"{:.2e}\".format(rel_delta_pos))\n",
    "\n",
    "print(\"\\nResult: \")\n",
    "if rel_delta_pos > 1:\n",
    "    print(\"Heavy astigmatism should appear\")\n",
    "elif rel_delta_pos > 0.5:\n",
    "    print(\"Slight astigmatism should appear\")\n",
    "else:\n",
    "    print(\"No astigmatism should appear\")"
   ]
  }
 ],
 "metadata": {
  "kernelspec": {
   "display_name": "Python 3",
   "language": "python",
   "name": "python3"
  },
  "language_info": {
   "codemirror_mode": {
    "name": "ipython",
    "version": 3
   },
   "file_extension": ".py",
   "mimetype": "text/x-python",
   "name": "python",
   "nbconvert_exporter": "python",
   "pygments_lexer": "ipython3",
   "version": "3.7.5"
  }
 },
 "nbformat": 4,
 "nbformat_minor": 4
}
