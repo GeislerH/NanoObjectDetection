{
 "cells": [
  {
   "cell_type": "markdown",
   "metadata": {},
   "source": [
    "# Welcome to the JupyterLab Version of the NanoObjectDetection Package"
   ]
  },
  {
   "cell_type": "markdown",
   "metadata": {},
   "source": [
    "## First Load the standard libraries"
   ]
  },
  {
   "cell_type": "code",
   "execution_count": 5,
   "metadata": {},
   "outputs": [],
   "source": [
    "# Standard Libraries\n",
    "from __future__ import division, unicode_literals, print_function # For compatibility with Python 2 and 3\n",
    "from importlib import reload # only used for debugging --> reload(package_name)\n",
    "\n",
    "# for easy debugging\n",
    "import numpy as np\n",
    "import matplotlib.pyplot as plt\n",
    "import pandas as pd\n",
    "import qgrid\n",
    "\n",
    "import sys\n",
    "import os\n",
    "sys.path.insert(0, os.path.abspath(r'C:\\Users\\foersterronny\\Documents\\GitHub'))\n",
    "\n",
    "# Own Library\n",
    "import NanoObjectDetection as nd\n",
    "\n",
    "debugger = False\n",
    "NewEvaluation = True"
   ]
  },
  {
   "cell_type": "markdown",
   "metadata": {},
   "source": [
    "## Execute this for new data"
   ]
  },
  {
   "cell_type": "code",
   "execution_count": 44,
   "metadata": {},
   "outputs": [
    {
     "name": "stdin",
     "output_type": "stream",
     "text": [
      "Is your data stored in : 1 - a single file (tif-stack) or 2 - multiple files (tif-series) (1 or 2)?  1\n",
      "Please select a number: \n",
      " The following setups are implemented           \n",
      " 1 - new           \n",
      " 2 - 5x Objective on Zeiss Microscope with Basler cam           \n",
      " 3 - 10x Objective on Zeiss Microscope with Basler cam           \n",
      " 4 - 10x (0.25) plan Objective at 'Olympus Corpus' with Basler cam           \n",
      "\n",
      " 4\n"
     ]
    },
    {
     "name": "stdout",
     "output_type": "stream",
     "text": [
      "Load: 10x (0.25) plan Objective at 'Olympus Corpus' with Basler cam\n",
      "Please insert experimental parameters: \n",
      "\n"
     ]
    },
    {
     "name": "stdin",
     "output_type": "stream",
     "text": [
      "lambda [nm] =  532\n",
      "fps =  200\n",
      "Exposure Time [ms] =  4.7\n"
     ]
    },
    {
     "name": "stdout",
     "output_type": "stream",
     "text": [
      "Viscosity not inserted yet.\n"
     ]
    },
    {
     "name": "stdin",
     "output_type": "stream",
     "text": [
      "Channel Diameter [um] =  15\n"
     ]
    },
    {
     "name": "stdout",
     "output_type": "stream",
     "text": [
      "Here come the help functions:\n"
     ]
    },
    {
     "name": "stdin",
     "output_type": "stream",
     "text": [
      "Which help functions do you want to use?             \n",
      " 0 - none             \n",
      " 1 - auto             \n",
      " 2 - select myself \n",
      " 1\n"
     ]
    },
    {
     "name": "stdout",
     "output_type": "stream",
     "text": [
      "Switch recommended help functions on.\n",
      "Make slash and backslash right\n",
      "Go to W:\\Foerster\\Data\\NanoObjectDetection\\5er_revolver_1214b2\\TrackingSetupOlympus\\Gold\\Laser_532nm\\Torsten\\exp_10nm_PEG_17_06_2020\\data in the explorer and open the py-script and json parameter file.\n"
     ]
    }
   ],
   "source": [
    "# reload(nd.Start)\n",
    "if NewEvaluation == True: nd.Start.NewEvaluation()"
   ]
  },
  {
   "cell_type": "markdown",
   "metadata": {},
   "source": [
    "## path of parameter file"
   ]
  },
  {
   "cell_type": "code",
   "execution_count": 47,
   "metadata": {},
   "outputs": [],
   "source": [
    "#%% \n",
    "# this can be replaced by any json file\n",
    "ParameterJsonFile = \\\n",
    "r'W:\\Foerster\\Data\\NanoObjectDetection\\5er_revolver_1214b2\\TrackingSetupOlympus\\Gold\\Laser_532nm\\Torsten\\exp_10nm_PEG_17_06_2020\\data\\parameter.json'"
   ]
  },
  {
   "cell_type": "markdown",
   "metadata": {},
   "source": [
    "## read in the raw data into numpy"
   ]
  },
  {
   "cell_type": "code",
   "execution_count": 48,
   "metadata": {},
   "outputs": [
    {
     "name": "stdout",
     "output_type": "stream",
     "text": [
      "start reading in raw images. (That may take a while...)\n",
      "W:\\Foerster\\Data\\NanoObjectDetection\\5er_revolver_1214b2\\TrackingSetupOlympus\\Gold\\Laser_532nm\\Torsten\\exp_10nm_PEG_17_06_2020\\data\\4700us_200fps.tif\n",
      "finishied reading in raw images =)\n"
     ]
    },
    {
     "data": {
      "application/vnd.jupyter.widget-view+json": {
       "model_id": "2301481ab8024f8091083558e81e1c8b",
       "version_major": 2,
       "version_minor": 0
      },
      "text/plain": [
       "interactive(children=(IntSlider(value=1, description='Frame', max=2999, min=1), IntRangeSlider(value=(0, 119),…"
      ]
     },
     "metadata": {},
     "output_type": "display_data"
    }
   ],
   "source": [
    "rawframes_np = nd.handle_data.ReadData2Numpy(ParameterJsonFile)\n",
    "\n",
    "reload(nd.JupyterLab)\n",
    "nd.JupyterLab.Show3dImage(rawframes_np)"
   ]
  },
  {
   "cell_type": "markdown",
   "metadata": {},
   "source": [
    "## ROI - Set Parameters"
   ]
  },
  {
   "cell_type": "code",
   "execution_count": 50,
   "metadata": {},
   "outputs": [
    {
     "data": {
      "application/vnd.jupyter.widget-view+json": {
       "model_id": "53fd9f2d650f4e0c9d77761120197468",
       "version_major": 2,
       "version_minor": 0
      },
      "text/plain": [
       "interactive(children=(IntSlider(value=1, description='Apply ROI (0 - no, 1 - yes)', max=1), Output()), _dom_cl…"
      ]
     },
     "metadata": {},
     "output_type": "display_data"
    }
   ],
   "source": [
    "reload(nd.JupyterLab)\n",
    "nd.JupyterLab.ChooseROIParameters(rawframes_np, ParameterJsonFile)"
   ]
  },
  {
   "cell_type": "markdown",
   "metadata": {},
   "source": [
    "## ROI - Apply"
   ]
  },
  {
   "cell_type": "code",
   "execution_count": 51,
   "metadata": {},
   "outputs": [
    {
     "name": "stdout",
     "output_type": "stream",
     "text": [
      "ROI IS applied\n",
      "Size rawdata (frames, height, length): (3000, 120, 4096)\n",
      "Size ROI (frames, height, length): (2999, 80, 400)\n"
     ]
    }
   ],
   "source": [
    "rawframes_super = nd.handle_data.UseROI(rawframes_np, ParameterJsonFile)\n",
    "\n",
    "#ignore supersamping for the moment since it is not really used, yet"
   ]
  },
  {
   "cell_type": "markdown",
   "metadata": {},
   "source": [
    "## Standard Image Preprocessing - Set Parameters"
   ]
  },
  {
   "cell_type": "code",
   "execution_count": 53,
   "metadata": {},
   "outputs": [
    {
     "data": {
      "application/vnd.jupyter.widget-view+json": {
       "model_id": "65e37d452b2148a1891666c89da7d142",
       "version_major": 2,
       "version_minor": 0
      },
      "text/plain": [
       "interactive(children=(IntSlider(value=0, description='Correct Laser fluctuations (0 - no, 1 - yes)', max=1), O…"
      ]
     },
     "metadata": {},
     "output_type": "display_data"
    },
    {
     "data": {
      "application/vnd.jupyter.widget-view+json": {
       "model_id": "27d24b92ddcd4b43b9fff8dfa9cac033",
       "version_major": 2,
       "version_minor": 0
      },
      "text/plain": [
       "interactive(children=(IntSlider(value=1, description='Correct camera offset (0 - no, 1 - yes)', max=1), Output…"
      ]
     },
     "metadata": {},
     "output_type": "display_data"
    },
    {
     "data": {
      "application/vnd.jupyter.widget-view+json": {
       "model_id": "9fe327bd0eb94c81af016fd5e680dbbc",
       "version_major": 2,
       "version_minor": 0
      },
      "text/plain": [
       "interactive(children=(IntSlider(value=1, description='Correct static background (0 - no, 1 - yes)', max=1), In…"
      ]
     },
     "metadata": {},
     "output_type": "display_data"
    },
    {
     "name": "stdout",
     "output_type": "stream",
     "text": [
      "RollingPercentilFilter not inserted yet\n",
      "Clipping negative values not inserted yet. Clipping is bad\n",
      "Rotating the image is not inserted yet. Rotate your camera if that is a problem.\n"
     ]
    }
   ],
   "source": [
    "reload(nd.PreProcessing)\n",
    "reload(nd.visualize)\n",
    "reload(nd.JupyterLab)\n",
    "nd.JupyterLab.ChoosePreProcessingParameters(rawframes_super, ParameterJsonFile)"
   ]
  },
  {
   "cell_type": "markdown",
   "metadata": {},
   "source": [
    "## Standard Image Preprocessing - Apply"
   ]
  },
  {
   "cell_type": "code",
   "execution_count": 54,
   "metadata": {},
   "outputs": [
    {
     "name": "stdout",
     "output_type": "stream",
     "text": [
      "Laser fluctuations: not removed\n",
      "Constant camera background: start removing\n",
      "Camera offset is:  0.0\n",
      "Constant camera background: removed\n",
      "Static background: start removing\n",
      "Static background: removed\n",
      "Rolling percentil filter: not applied\n",
      "Negative values: kept\n",
      "Convolve rawframe by PSF to enhance SNR: start removing\n",
      "Gauss Kernel in px: 1.3337057150202183\n",
      "Do it parallel\n",
      "Parallel finished\n",
      "Convolve rawframe by PSF to enhance SNR: removed\n",
      "Image Rotation: not applied\n"
     ]
    },
    {
     "data": {
      "image/png": "[encoded data removed]",
      "text/plain": [
       "<Figure size 576x432 with 1 Axes>"
      ]
     },
     "metadata": {
      "needs_background": "light"
     },
     "output_type": "display_data"
    },
    {
     "data": {
      "image/png": "[encoded data removed]",
      "text/plain": [
       "<Figure size 576x432 with 2 Axes>"
      ]
     },
     "metadata": {
      "needs_background": "light"
     },
     "output_type": "display_data"
    },
    {
     "data": {
      "image/png": "[encoded data removed]",
      "text/plain": [
       "<Figure size 576x432 with 1 Axes>"
      ]
     },
     "metadata": {
      "needs_background": "light"
     },
     "output_type": "display_data"
    },
    {
     "data": {
      "image/png": "[encoded data removed]",
      "text/plain": [
       "<Figure size 576x432 with 1 Axes>"
      ]
     },
     "metadata": {
      "needs_background": "light"
     },
     "output_type": "display_data"
    },
    {
     "data": {
      "application/vnd.jupyter.widget-view+json": {
       "model_id": "08f95172bb814964b0a062426a0babd2",
       "version_major": 2,
       "version_minor": 0
      },
      "text/plain": [
       "interactive(children=(IntRangeSlider(value=(0, 79), description='ROI - y', max=79, step=5), IntRangeSlider(val…"
      ]
     },
     "metadata": {},
     "output_type": "display_data"
    },
    {
     "data": {
      "application/vnd.jupyter.widget-view+json": {
       "model_id": "1127fee2041e43a0a61e136713acd6e9",
       "version_major": 2,
       "version_minor": 0
      },
      "text/plain": [
       "interactive(children=(IntSlider(value=1, description='Frame', max=2998, min=1), IntRangeSlider(value=(0, 79), …"
      ]
     },
     "metadata": {},
     "output_type": "display_data"
    }
   ],
   "source": [
    "#reload(nd.PreProcessing)\n",
    "reload(nd.JupyterLab)\n",
    "rawframes_pre, static_background = nd.PreProcessing.Main(rawframes_super, ParameterJsonFile)\n",
    "nd.JupyterLab.Show2dImage(static_background, title = \"Background\")\n",
    "nd.JupyterLab.Show3dImage(rawframes_pre, title = \"Raw Image\")"
   ]
  },
  {
   "cell_type": "markdown",
   "metadata": {},
   "source": [
    "## help with the parameters for finding objects "
   ]
  },
  {
   "cell_type": "code",
   "execution_count": 56,
   "metadata": {},
   "outputs": [
    {
     "data": {
      "application/vnd.jupyter.widget-view+json": {
       "model_id": "4fa404f37c7f4a77af8ce6b103e1969b",
       "version_major": 2,
       "version_minor": 0
      },
      "text/plain": [
       "interactive(children=(Dropdown(description='Help separation distance', index=1, options=('0', 'auto'), value='…"
      ]
     },
     "metadata": {},
     "output_type": "display_data"
    },
    {
     "data": {
      "application/vnd.jupyter.widget-view+json": {
       "model_id": "0f1cd3f9998644f5bafd87311e3586be",
       "version_major": 2,
       "version_minor": 0
      },
      "text/plain": [
       "interactive(children=(Dropdown(description='Help bead diameter', index=2, options=('0', 'manual', 'auto'), val…"
      ]
     },
     "metadata": {},
     "output_type": "display_data"
    },
    {
     "data": {
      "application/vnd.jupyter.widget-view+json": {
       "model_id": "4c519ebfcad245b5a31e90f1a888626c",
       "version_major": 2,
       "version_minor": 0
      },
      "text/plain": [
       "interactive(children=(Dropdown(description='Help bead minmass', index=1, options=('0', 'manual', 'auto'), valu…"
      ]
     },
     "metadata": {},
     "output_type": "display_data"
    }
   ],
   "source": [
    "settings = nd.handle_data.ReadJson(ParameterJsonFile)\n",
    "\n",
    "reload(nd.ParameterEstimation)\n",
    "reload(nd.JupyterLab)\n",
    "reload(nd.get_trajectorie)\n",
    "reload(nd.AdjustSettings)\n",
    "nd.JupyterLab.ChooseFindObjParameters(rawframes_pre, ParameterJsonFile)\n",
    "\n",
    "#nd.AdjustSettings.AdjustSettings_Main(rawframes_pre, ParameterJsonFile)"
   ]
  },
  {
   "cell_type": "markdown",
   "metadata": {},
   "source": [
    "## find the objects"
   ]
  },
  {
   "cell_type": "code",
   "execution_count": 57,
   "metadata": {},
   "outputs": [
    {
     "name": "stdout",
     "output_type": "stream",
     "text": [
      "Frame 2998: 1 features\n",
      "Set all NaN in estimation precision to 0\n"
     ]
    },
    {
     "data": {
      "application/vnd.jupyter.widget-view+json": {
       "model_id": "d4ce97cb01a24b7abc511318bad51d56",
       "version_major": 2,
       "version_minor": 0
      },
      "text/plain": [
       "QgridWidget(grid_options={'fullWidthRows': True, 'syncColumnCellResize': True, 'forceFitColumns': True, 'defau…"
      ]
     },
     "metadata": {},
     "output_type": "display_data"
    }
   ],
   "source": [
    "reload(nd.get_trajectorie)\n",
    "obj_all = nd.get_trajectorie.FindSpots(rawframes_pre, ParameterJsonFile)\n",
    "\n",
    "#qgrid.show_grid(obj_all, show_toolbar=True)"
   ]
  },
  {
   "cell_type": "markdown",
   "metadata": {},
   "source": [
    "## identify static objects - find trajectories of very slow diffusing (maybe stationary) objects"
   ]
  },
  {
   "cell_type": "code",
   "execution_count": 58,
   "metadata": {},
   "outputs": [
    {
     "name": "stdout",
     "output_type": "stream",
     "text": [
      "Frame 2998: 1 trajectories present.\n",
      "New method here.\n",
      "Minimum trajectorie length:  30.0\n",
      "Number of stationary objects (might be detected multiple times after being dark): 0\n"
     ]
    }
   ],
   "source": [
    "reload(nd.get_trajectorie)\n",
    "\n",
    "t1_orig_slow_diff = nd.get_trajectorie.link_df(obj_all, ParameterJsonFile, SearchFixedParticles = True)\n",
    "# qgrid.show_grid(t1_orig_slow_diff, show_toolbar=True)\n",
    "\n",
    "# delete trajectories which are not long enough. stationary objects have long trajcetories and survive the test   \n",
    "t2_stationary = nd.get_trajectorie.filter_stubs(t1_orig_slow_diff, ParameterJsonFile, FixedParticles = True, BeforeDriftCorrection = True)\n",
    "\n",
    "# qgrid.show_grid(t2_stationary, show_toolbar=True)"
   ]
  },
  {
   "cell_type": "markdown",
   "metadata": {},
   "source": [
    "## cut trajectories when a moving particles comes to close to a stationary object"
   ]
  },
  {
   "cell_type": "code",
   "execution_count": 59,
   "metadata": {},
   "outputs": [
    {
     "name": "stdout",
     "output_type": "stream",
     "text": [
      "min_distance to stationary object:  20\n"
     ]
    }
   ],
   "source": [
    "obj_moving = nd.get_trajectorie.RemoveSpotsInNoGoAreas(obj_all, t2_stationary, ParameterJsonFile)\n",
    "\n",
    "#qgrid.show_grid(obj_moving, show_toolbar=True)"
   ]
  },
  {
   "cell_type": "markdown",
   "metadata": {},
   "source": [
    "## remove overexposed objects"
   ]
  },
  {
   "cell_type": "code",
   "execution_count": 60,
   "metadata": {},
   "outputs": [
    {
     "name": "stdout",
     "output_type": "stream",
     "text": [
      "Deleted overexposed particles!\n"
     ]
    }
   ],
   "source": [
    "obj_moving = nd.get_trajectorie.RemoveOverexposedObjects(ParameterJsonFile, obj_moving, rawframes_pre)\n",
    "# qgrid.show_grid(obj_moving, show_toolbar=True)"
   ]
  },
  {
   "cell_type": "markdown",
   "metadata": {},
   "source": [
    "## form trajectories of valid particle positions"
   ]
  },
  {
   "cell_type": "code",
   "execution_count": 61,
   "metadata": {},
   "outputs": [
    {
     "name": "stdout",
     "output_type": "stream",
     "text": [
      "Frame 2998: 1 trajectories present.\n"
     ]
    }
   ],
   "source": [
    "t1_orig = nd.get_trajectorie.link_df(obj_moving, ParameterJsonFile, SearchFixedParticles = False) \n",
    "# qgrid.show_grid(t1_orig, show_toolbar=True)"
   ]
  },
  {
   "cell_type": "markdown",
   "metadata": {},
   "source": [
    "## remove to short trajectories"
   ]
  },
  {
   "cell_type": "code",
   "execution_count": 62,
   "metadata": {},
   "outputs": [
    {
     "name": "stdout",
     "output_type": "stream",
     "text": [
      "Minimum trajectorie length:  30.0\n",
      "Too short trajectories removed!\n",
      "Before: 64, After: 11, Removed: 53 (82%)\n"
     ]
    }
   ],
   "source": [
    "t2_long = nd.get_trajectorie.filter_stubs(t1_orig, ParameterJsonFile, FixedParticles = False, BeforeDriftCorrection = True)\n",
    "# qgrid.show_grid(t2_long, show_toolbar=True)"
   ]
  },
  {
   "cell_type": "markdown",
   "metadata": {},
   "source": [
    "## identify and close gaps in the trajectory & calculate intensity fluctuations as a sign of wrong assignment"
   ]
  },
  {
   "cell_type": "code",
   "execution_count": 63,
   "metadata": {},
   "outputs": [
    {
     "name": "stdout",
     "output_type": "stream",
     "text": [
      "Close gaps in trajectories: [##################################################] 100% DONE\n"
     ]
    }
   ],
   "source": [
    "t3_gapless = nd.get_trajectorie.close_gaps(t2_long)\n",
    "t3_gapless = nd.get_trajectorie.calc_intensity_fluctuations(t3_gapless, ParameterJsonFile)\n",
    "# qgrid.show_grid(t3_gapless, show_toolbar=True)"
   ]
  },
  {
   "cell_type": "markdown",
   "metadata": {},
   "source": [
    "## split trajectories if necessary (e.g. to large intensity jumps)"
   ]
  },
  {
   "cell_type": "code",
   "execution_count": 64,
   "metadata": {},
   "outputs": [
    {
     "name": "stdout",
     "output_type": "stream",
     "text": [
      "Split trajectories at high intensity jumps: [##################################################] 100% DONE\n",
      "Trajectories with risk of wrong assignments (i.e. before splitting): 11\n",
      "Trajectories with reduced risk of wrong assignments (i.e. after splitting): 12\n",
      "Number of performed trajectory splits: 4\n",
      "Number of concerned trajectories: 3 (27%)\n",
      "Number of trajectories that became too short and were filtered out: 0\n",
      "Close gaps in trajectories: [##################################################] 100% DONE\n"
     ]
    },
    {
     "data": {
      "application/vnd.jupyter.widget-view+json": {
       "model_id": "0a7908da79d24136813e3472f4846267",
       "version_major": 2,
       "version_minor": 0
      },
      "text/plain": [
       "QgridWidget(grid_options={'fullWidthRows': True, 'syncColumnCellResize': True, 'forceFitColumns': True, 'defau…"
      ]
     },
     "metadata": {},
     "output_type": "display_data"
    }
   ],
   "source": [
    "t4_cutted, t4_cutted_no_gaps = nd.get_trajectorie.split_traj(t2_long, t3_gapless, ParameterJsonFile)\n",
    "qgrid.show_grid(t4_cutted, show_toolbar=True)"
   ]
  },
  {
   "cell_type": "markdown",
   "metadata": {},
   "source": [
    "## drift correction"
   ]
  },
  {
   "cell_type": "code",
   "execution_count": 65,
   "metadata": {},
   "outputs": [
    {
     "name": "stdout",
     "output_type": "stream",
     "text": [
      "The drift correction is done by averaging over:  100  frames\n",
      "Mode: global drift correction\n",
      "drift correction --> finished\n"
     ]
    }
   ],
   "source": [
    "reload(nd.Drift)\n",
    "\n",
    "t5_no_drift = nd.Drift.DriftCorrection(t4_cutted, ParameterJsonFile, PlotGlobalDrift = False)\n",
    "# qgrid.show_grid(t5_no_drift, show_toolbar=True)"
   ]
  },
  {
   "cell_type": "markdown",
   "metadata": {},
   "source": [
    "## only long trajectories are used in the msd plort in order to get a good fit"
   ]
  },
  {
   "cell_type": "code",
   "execution_count": 66,
   "metadata": {
    "scrolled": true
   },
   "outputs": [
    {
     "name": "stdout",
     "output_type": "stream",
     "text": [
      "Minimum trajectorie length:  150.0\n",
      "Too short trajectories removed!\n",
      "Before: 12, After: 4, Removed: 8 (66%)\n",
      "particleid:  2.0\n",
      "particleid:  29.0\n",
      "particleid:  52.0\n",
      "particleid:  53.0\n"
     ]
    },
    {
     "data": {
      "application/vnd.jupyter.widget-view+json": {
       "model_id": "fac5dfe4a2c34d918d41b28556f1b904",
       "version_major": 2,
       "version_minor": 0
      },
      "text/plain": [
       "QgridWidget(grid_options={'fullWidthRows': True, 'syncColumnCellResize': True, 'forceFitColumns': True, 'defau…"
      ]
     },
     "metadata": {},
     "output_type": "display_data"
    }
   ],
   "source": [
    "reload(nd.get_trajectorie)\n",
    "reload(nd.CalcDiameter)\n",
    "t6_final = nd.get_trajectorie.filter_stubs(t5_no_drift, ParameterJsonFile, FixedParticles = False, BeforeDriftCorrection = False)\n",
    "\n",
    "qgrid.show_grid(t6_final, show_toolbar=True)"
   ]
  },
  {
   "cell_type": "markdown",
   "metadata": {},
   "source": [
    "## calculate the msd and process to diffusion and diameter"
   ]
  },
  {
   "cell_type": "code",
   "execution_count": 67,
   "metadata": {
    "scrolled": true
   },
   "outputs": [
    {
     "name": "stdout",
     "output_type": "stream",
     "text": [
      "\n",
      " Particle number:  2\n",
      "Starting Diameter: 203.3nm; hindrance factor: 1.062; Corrected Diameter: 191.43nm\n",
      "\n",
      " Particle number:  29\n",
      "Starting Diameter: 266.5nm; hindrance factor: 1.077; Corrected Diameter: 247.55nm\n",
      "\n",
      " Particle number:  52\n",
      "Starting Diameter: 228.0nm; hindrance factor: 1.068; Corrected Diameter: 213.53nm\n",
      "\n",
      " Particle number:  53\n",
      "Starting Diameter: 214.3nm; hindrance factor: 1.065; Corrected Diameter: 201.29nm\n"
     ]
    },
    {
     "data": {
      "application/vnd.jupyter.widget-view+json": {
       "model_id": "57a8f217116745d98b479284838e7388",
       "version_major": 2,
       "version_minor": 0
      },
      "text/plain": [
       "QgridWidget(grid_options={'fullWidthRows': True, 'syncColumnCellResize': True, 'forceFitColumns': True, 'defau…"
      ]
     },
     "metadata": {},
     "output_type": "display_data"
    },
    {
     "data": {
      "image/png": "[encoded data removed]",
      "text/plain": [
       "<Figure size 576x432 with 1 Axes>"
      ]
     },
     "metadata": {
      "needs_background": "light"
     },
     "output_type": "display_data"
    }
   ],
   "source": [
    "reload(nd.CalcDiameter)\n",
    "sizes_df_lin, sizes_df_lin_rolling , any_successful_check = nd.CalcDiameter.Main(t6_final, ParameterJsonFile, obj_all, MSD_fit_Show = True)\n",
    "qgrid.show_grid(sizes_df_lin[sizes_df_lin.diameter < 1000], show_toolbar=True)"
   ]
  },
  {
   "cell_type": "code",
   "execution_count": 68,
   "metadata": {},
   "outputs": [
    {
     "data": {
      "application/vnd.jupyter.widget-view+json": {
       "model_id": "03b11ab1d46f4d5ea19adb166058c0ac",
       "version_major": 2,
       "version_minor": 0
      },
      "text/plain": [
       "QgridWidget(grid_options={'fullWidthRows': True, 'syncColumnCellResize': True, 'forceFitColumns': True, 'defau…"
      ]
     },
     "metadata": {},
     "output_type": "display_data"
    }
   ],
   "source": [
    "#np.mean(sizes_df_lin[sizes_df_lin.diameter < 30])\n",
    "eval_part_id = sizes_df_lin[sizes_df_lin.diameter < 30][\"true_particle\"].values\n",
    "\n",
    "t1_orig[np.isin(t1_orig.particle,eval_part_id)].groupby(\"particle\").first()\n",
    "\n",
    "qgrid.show_grid(t1_orig[t1_orig.particle == 917], show_toolbar=True)"
   ]
  },
  {
   "cell_type": "markdown",
   "metadata": {},
   "source": [
    "## visualize results"
   ]
  },
  {
   "cell_type": "code",
   "execution_count": 69,
   "metadata": {},
   "outputs": [
    {
     "name": "stdout",
     "output_type": "stream",
     "text": [
      "dpi = 300\n",
      "Figure saved at: W:\\Foerster\\Data\\NanoObjectDetection\\5er_revolver_1214b2\\TrackingSetupOlympus\\Gold\\Laser_532nm\\Torsten\\exp_10nm_PEG_17_06_2020\\data\\analysis\\200617\\\n",
      "\n",
      "\n",
      " mean diameter:  211.1\n",
      "68CI Intervall:  [189.5 252.8] \n",
      "\n",
      "\n",
      "dpi = 300\n"
     ]
    },
    {
     "name": "stderr",
     "output_type": "stream",
     "text": [
      "C:\\Users\\foersterronny\\Documents\\GitHub\\NanoObjectDetection\\visualize.py:624: RuntimeWarning: divide by zero encountered in true_divide\n",
      "  diam_grid_inv = 1/diam_grid\n"
     ]
    },
    {
     "name": "stdout",
     "output_type": "stream",
     "text": [
      "Figure saved at: W:\\Foerster\\Data\\NanoObjectDetection\\5er_revolver_1214b2\\TrackingSetupOlympus\\Gold\\Laser_532nm\\Torsten\\exp_10nm_PEG_17_06_2020\\data\\analysis\\200617\\\n"
     ]
    },
    {
     "data": {
      "image/png": "[encoded data removed]",
      "text/plain": [
       "<Figure size 576x432 with 1 Axes>"
      ]
     },
     "metadata": {
      "needs_background": "light"
     },
     "output_type": "display_data"
    },
    {
     "data": {
      "image/png": "[encoded data removed]",
      "text/plain": [
       "<Figure size 576x432 with 1 Axes>"
      ]
     },
     "metadata": {
      "needs_background": "light"
     },
     "output_type": "display_data"
    }
   ],
   "source": [
    "reload(nd.visualize)\n",
    "nd.visualize.PlotDiameters(ParameterJsonFile, sizes_df_lin[sizes_df_lin.diameter < 1000], any_successful_check)"
   ]
  },
  {
   "cell_type": "code",
   "execution_count": null,
   "metadata": {},
   "outputs": [],
   "source": [
    "fig = plt.figure()\n",
    "import matplotlib.colors as colors\n"
   ]
  },
  {
   "cell_type": "code",
   "execution_count": null,
   "metadata": {},
   "outputs": [],
   "source": [
    "from ipywidgets import IntSlider, IntRangeSlider, FloatLogSlider\n",
    "import matplotlib.colors as colors\n",
    "\n",
    "[max_f, max_y, max_x] = np.asarray(rawframes_ROI.shape) - 1\n",
    "\n",
    "def ShowRawImage(frame, y_range, x_range, my_gamma):  \n",
    "    \n",
    "    fig, axes = plt.subplots(3,1, sharex = True,figsize=(15,10))\n",
    "    \n",
    "    y_min = y_range[0]\n",
    "    y_max = y_range[1]+1\n",
    "    x_min = x_range[0]\n",
    "    x_max = x_range[1]+1\n",
    "     \n",
    "    axes[0].imshow(rawframes_ROI[frame,y_min:y_max, x_min:x_max], cmap = 'gray', norm=colors.PowerNorm(gamma=my_gamma))\n",
    "    axes[0].set_title(\"Raw Image\")\n",
    "    axes[0].set_ylabel(\"y [Px]\")\n",
    "    \n",
    "    axes[1].imshow(static_background[y_min:y_max, x_min:x_max], cmap = 'gray', norm=colors.PowerNorm(gamma=my_gamma))\n",
    "    axes[1].set_title(\"Background\")\n",
    "    axes[1].set_ylabel(\"y [Px]\")\n",
    "    \n",
    "    axes[2].imshow(rawframes_pre[frame, y_min:y_max, x_min:x_max], cmap = 'gray', norm=colors.PowerNorm(gamma=my_gamma))\n",
    "    axes[2].set_title(\"Corrected Background\")\n",
    "    axes[2].set_xlabel(\"x [Px]\")\n",
    "    axes[2].set_ylabel(\"y [Px]\")    \n",
    "    \n",
    "    fig.tight_layout()\n",
    "    \n",
    "    \n",
    "frame_slider = IntSlider(min = 1, max = max_f, description = \"Frame\")    \n",
    "y_range_slider = IntRangeSlider(value=[0, max_y], min=0, max=max_y, description = \"ROI - y\")\n",
    "x_range_slider = IntRangeSlider(value=[0, max_x], min=0, max=max_x, description = \"ROI - x\")\n",
    "gamma_slider = FloatSlider(min = 0.1, max = 2, step = 0.05, value = 1)  \n",
    "    \n",
    "interact(ShowRawImage, frame = frame_slider, y_range = y_range_slider, x_range = x_range_slider, my_gamma = gamma_slider)"
   ]
  },
  {
   "cell_type": "code",
   "execution_count": null,
   "metadata": {},
   "outputs": [],
   "source": [
    "from ipywidgets import interact, interactive, fixed, interact_manual\n",
    "import ipywidgets as widgets\n",
    "# run \"jupyter nbextension enable --py widgetsnbextension\" in anaconda prompt\n",
    "# conda install -n base -c conda-forge widgetsnbextension\n",
    "# conda install -c conda-forge nodejs\n",
    "# jupyter labextension install @jupyter-widgets/jupyterlab-manager\n",
    "\n",
    "import numpy as np\n",
    "import matplotlib.pyplot as plt\n",
    "def f(x):\n",
    "    plt.plot(np.arange(0,10), x*np.arange(0,10))\n",
    "    plt.ylim(-30,30)\n",
    "    \n",
    "interact(f, x=1)"
   ]
  },
  {
   "cell_type": "code",
   "execution_count": 96,
   "metadata": {},
   "outputs": [
    {
     "ename": "NameError",
     "evalue": "name 'sizes_df_lin' is not defined",
     "output_type": "error",
     "traceback": [
      "\u001b[1;31m---------------------------------------------------------------------------\u001b[0m",
      "\u001b[1;31mNameError\u001b[0m                                 Traceback (most recent call last)",
      "\u001b[1;32m<ipython-input-96-8615e0a0aa2b>\u001b[0m in \u001b[0;36m<module>\u001b[1;34m\u001b[0m\n\u001b[1;32m----> 1\u001b[1;33m \u001b[0msizes_df_lin\u001b[0m\u001b[1;33m\u001b[0m\u001b[1;33m\u001b[0m\u001b[0m\n\u001b[0m",
      "\u001b[1;31mNameError\u001b[0m: name 'sizes_df_lin' is not defined"
     ]
    }
   ],
   "source": []
  }
 ],
 "metadata": {
  "kernelspec": {
   "display_name": "Python 3",
   "language": "python",
   "name": "python3"
  },
  "language_info": {
   "codemirror_mode": {
    "name": "ipython",
    "version": 3
   },
   "file_extension": ".py",
   "mimetype": "text/x-python",
   "name": "python",
   "nbconvert_exporter": "python",
   "pygments_lexer": "ipython3",
   "version": "3.7.5"
  }
 },
 "nbformat": 4,
 "nbformat_minor": 4
}
