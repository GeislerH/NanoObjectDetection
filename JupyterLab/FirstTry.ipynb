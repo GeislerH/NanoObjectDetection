{
 "cells": [
  {
   "cell_type": "markdown",
   "metadata": {},
   "source": [
    "# Welcome to the JupyterLab Version of the NanoObjectDetection Package"
   ]
  },
  {
   "cell_type": "markdown",
   "metadata": {},
   "source": [
    "## First Load the standard libraries"
   ]
  },
  {
   "cell_type": "code",
   "execution_count": 2,
   "metadata": {},
   "outputs": [],
   "source": [
    "# Standard Libraries\n",
    "from __future__ import division, unicode_literals, print_function # For compatibility with Python 2 and 3\n",
    "from importlib import reload # only used for debugging --> reload(package_name)\n",
    "\n",
    "# for easy debugging\n",
    "import numpy as np\n",
    "import matplotlib.pyplot as plt\n",
    "import pandas as pd\n",
    "import qgrid\n",
    "\n",
    "import sys\n",
    "import os\n",
    "sys.path.insert(0, os.path.abspath(r'C:\\Users\\foersterronny\\Documents\\GitHub'))\n",
    "\n",
    "# Own Library\n",
    "import NanoObjectDetection as nd\n",
    "\n",
    "debugger = True\n",
    "NewEvaluation = False"
   ]
  },
  {
   "cell_type": "markdown",
   "metadata": {},
   "source": [
    "## Execute this for new data"
   ]
  },
  {
   "cell_type": "code",
   "execution_count": 3,
   "metadata": {},
   "outputs": [],
   "source": [
    "if NewEvaluation == True: nd.Start.NewEvaluation()"
   ]
  },
  {
   "cell_type": "markdown",
   "metadata": {},
   "source": [
    "## path of parameter file"
   ]
  },
  {
   "cell_type": "code",
   "execution_count": 4,
   "metadata": {},
   "outputs": [],
   "source": [
    "#%% \n",
    "# this can be replaced by any json file\n",
    "ParameterJsonFile = \\\n",
    "r'\\\\mars\\usr\\FA2_Faseroptik\\FAG24_Faseropt_Systeme\\Foerster\\Data\\NanoObjectDetection\\5er_revolver_1214b2\\TrackingSetupOlympus\\Gold\\Laser_488nm\\Torsten\\200512_5nm_24600us_40fps_10x_0-3_v1_Neofluar\\Analysis\\parameter.json'"
   ]
  },
  {
   "cell_type": "markdown",
   "metadata": {},
   "source": [
    "## read in the raw data into numpy"
   ]
  },
  {
   "cell_type": "code",
   "execution_count": 5,
   "metadata": {},
   "outputs": [
    {
     "name": "stdout",
     "output_type": "stream",
     "text": [
      "start reading in raw images. (That may take a while...)\n",
      "\\\\mars\\usr\\FA2_Faseroptik\\FAG24_Faseropt_Systeme\\Foerster\\Data\\NanoObjectDetection\\5er_revolver_1214b2\\TrackingSetupOlympus\\Gold\\Laser_488nm\\Torsten\\200512_5nm_24600us_40fps_10x_0-3_v1_Neofluar\\Data\\Neofluar_10xNA_03_40fps_24600us_1200pics_22C_neu.tif\n",
      "finishied reading in raw images =)\n"
     ]
    },
    {
     "data": {
      "application/vnd.jupyter.widget-view+json": {
       "model_id": "0fca9e740a1946f084d8593b902d7b4d",
       "version_major": 2,
       "version_minor": 0
      },
      "text/plain": [
       "interactive(children=(IntSlider(value=1, description='Frame', max=1999, min=1), IntRangeSlider(value=(0, 199),…"
      ]
     },
     "metadata": {},
     "output_type": "display_data"
    }
   ],
   "source": [
    "rawframes_np = nd.handle_data.ReadData2Numpy(ParameterJsonFile)\n",
    "reload(nd.JupyterLab)\n",
    "nd.JupyterLab.Show3dImage(rawframes_np)"
   ]
  },
  {
   "cell_type": "markdown",
   "metadata": {},
   "source": [
    "## ROI - Set Parameters"
   ]
  },
  {
   "cell_type": "code",
   "execution_count": 62,
   "metadata": {},
   "outputs": [
    {
     "data": {
      "application/vnd.jupyter.widget-view+json": {
       "model_id": "ee07739215b84ccd92089950f6cbef79",
       "version_major": 2,
       "version_minor": 0
      },
      "text/plain": [
       "interactive(children=(IntSlider(value=1, description='Apply ROI (0 - no, 1 - yes)', max=1), Output()), _dom_cl…"
      ]
     },
     "metadata": {},
     "output_type": "display_data"
    }
   ],
   "source": [
    "reload(nd.JupyterLab)\n",
    "nd.JupyterLab.ChooseROIParameters(rawframes_np, ParameterJsonFile)"
   ]
  },
  {
   "cell_type": "markdown",
   "metadata": {},
   "source": [
    "## ROI - Apply"
   ]
  },
  {
   "cell_type": "code",
   "execution_count": 63,
   "metadata": {},
   "outputs": [
    {
     "name": "stdout",
     "output_type": "stream",
     "text": [
      "ROI IS applied\n",
      "Size rawdata (frames, height, length): (2000, 200, 4096)\n",
      "Size ROI (frames, height, length): (1990, 190, 720)\n"
     ]
    }
   ],
   "source": [
    "rawframes_super = nd.handle_data.UseROI(rawframes_np, ParameterJsonFile)\n",
    "\n",
    "#ignore supersamping for the moment since it is not really used, yet"
   ]
  },
  {
   "cell_type": "markdown",
   "metadata": {},
   "source": [
    "## Standard Image Preprocessing - Set Parameters"
   ]
  },
  {
   "cell_type": "code",
   "execution_count": 64,
   "metadata": {},
   "outputs": [
    {
     "data": {
      "application/vnd.jupyter.widget-view+json": {
       "model_id": "8a9e153858ea4bbb8190fbea717f0a60",
       "version_major": 2,
       "version_minor": 0
      },
      "text/plain": [
       "interactive(children=(IntSlider(value=0, description='Correct Laser fluctuations (0 - no, 1 - yes)', max=1), O…"
      ]
     },
     "metadata": {},
     "output_type": "display_data"
    },
    {
     "data": {
      "application/vnd.jupyter.widget-view+json": {
       "model_id": "95bf46c0e5a34f9f9b174393ca526e51",
       "version_major": 2,
       "version_minor": 0
      },
      "text/plain": [
       "interactive(children=(IntSlider(value=1, description='Correct camera offset (0 - no, 1 - yes)', max=1), Output…"
      ]
     },
     "metadata": {},
     "output_type": "display_data"
    },
    {
     "data": {
      "application/vnd.jupyter.widget-view+json": {
       "model_id": "ff7f74c8f7a64fa6a1caca46165eff0f",
       "version_major": 2,
       "version_minor": 0
      },
      "text/plain": [
       "interactive(children=(IntSlider(value=1, description='Correct static background (0 - no, 1 - yes)', max=1), Ou…"
      ]
     },
     "metadata": {},
     "output_type": "display_data"
    },
    {
     "name": "stdout",
     "output_type": "stream",
     "text": [
      "RollingPercentilFilter not inserted yet\n",
      "Clipping negative values not inserted yet. Clipping is bad\n"
     ]
    },
    {
     "data": {
      "application/vnd.jupyter.widget-view+json": {
       "model_id": "7220415811a04960a68de6089f62e0c3",
       "version_major": 2,
       "version_minor": 0
      },
      "text/plain": [
       "interactive(children=(IntSlider(value=1, description='Enhance SNR by convolving with the PSF (0 - no, 1 - yes)…"
      ]
     },
     "metadata": {},
     "output_type": "display_data"
    },
    {
     "name": "stdout",
     "output_type": "stream",
     "text": [
      "Rotating the image is not inserted yet. Rotate your camera if that is a problem.\n"
     ]
    }
   ],
   "source": [
    "reload(nd.PreProcessing)\n",
    "reload(nd.JupyterLab)\n",
    "nd.JupyterLab.ChoosePreProcessingParameters(rawframes_super, ParameterJsonFile)"
   ]
  },
  {
   "cell_type": "markdown",
   "metadata": {},
   "source": [
    "## Standard Image Preprocessing - Apply"
   ]
  },
  {
   "cell_type": "code",
   "execution_count": 65,
   "metadata": {},
   "outputs": [
    {
     "name": "stdout",
     "output_type": "stream",
     "text": [
      "Laser fluctuations: not removed\n",
      "Constant camera background: start removing\n",
      "Camera offset is:  0.0\n",
      "Constant camera background: removed\n",
      "Static background: start removing\n",
      "Static background: removed\n",
      "Rolling percentil filter: not applied\n",
      "Negative values: kept\n",
      "Convolve rawframe by PSF to enhance SNR: start removing\n",
      "Gauss Kernel in px: 1.125900508605618\n",
      "Do it parallel\n",
      "Parallel finished\n",
      "Convolve rawframe by PSF to enhance SNR: removed\n",
      "Image Rotation: not applied\n"
     ]
    },
    {
     "data": {
      "image/png": "[encoded data removed]",
      "text/plain": [
       "<Figure size 576x432 with 2 Axes>"
      ]
     },
     "metadata": {
      "needs_background": "light"
     },
     "output_type": "display_data"
    },
    {
     "data": {
      "application/vnd.jupyter.widget-view+json": {
       "model_id": "2c10e7417a91441fbffa428904b20c35",
       "version_major": 2,
       "version_minor": 0
      },
      "text/plain": [
       "interactive(children=(IntSlider(value=1, description='Frame', max=1989, min=1), IntRangeSlider(value=(0, 189),…"
      ]
     },
     "metadata": {},
     "output_type": "display_data"
    }
   ],
   "source": [
    "reload(nd.PreProcessing)\n",
    "reload(nd.JupyterLab)\n",
    "rawframes_pre, static_background = nd.PreProcessing.Main(rawframes_super, ParameterJsonFile)\n",
    "nd.JupyterLab.Show3dImage(rawframes_pre)"
   ]
  },
  {
   "cell_type": "markdown",
   "metadata": {},
   "source": [
    "## help with the parameters for finding objects "
   ]
  },
  {
   "cell_type": "code",
   "execution_count": 66,
   "metadata": {},
   "outputs": [
    {
     "data": {
      "application/vnd.jupyter.widget-view+json": {
       "model_id": "0e3776ccc95643b7bb9a9beafa7a8450",
       "version_major": 2,
       "version_minor": 0
      },
      "text/plain": [
       "interactive(children=(Dropdown(description='Help separation distance', index=1, options=('0', 'auto'), value='…"
      ]
     },
     "metadata": {},
     "output_type": "display_data"
    },
    {
     "data": {
      "application/vnd.jupyter.widget-view+json": {
       "model_id": "5a840acabfbf43a9b3abcf18eb116bb5",
       "version_major": 2,
       "version_minor": 0
      },
      "text/plain": [
       "interactive(children=(Dropdown(description='Help bead diameter', index=1, options=('0', 'manual', 'auto'), val…"
      ]
     },
     "metadata": {},
     "output_type": "display_data"
    },
    {
     "data": {
      "application/vnd.jupyter.widget-view+json": {
       "model_id": "f034e5a371fe4e7d87ff72be2fbb6014",
       "version_major": 2,
       "version_minor": 0
      },
      "text/plain": [
       "interactive(children=(Dropdown(description='Help bead minmass', index=1, options=('0', 'manual', 'auto'), valu…"
      ]
     },
     "metadata": {},
     "output_type": "display_data"
    }
   ],
   "source": [
    "settings = nd.handle_data.ReadJson(ParameterJsonFile)\n",
    "\n",
    "reload(nd.ParameterEstimation)\n",
    "reload(nd.JupyterLab)\n",
    "reload(nd.get_trajectorie)\n",
    "reload(nd.AdjustSettings)\n",
    "nd.JupyterLab.ChooseFindObjParameters(rawframes_super, ParameterJsonFile)\n",
    "\n",
    "#nd.AdjustSettings.AdjustSettings_Main(rawframes_pre, ParameterJsonFile)"
   ]
  },
  {
   "cell_type": "markdown",
   "metadata": {},
   "source": [
    "## find the objects"
   ]
  },
  {
   "cell_type": "code",
   "execution_count": 67,
   "metadata": {},
   "outputs": [
    {
     "name": "stdout",
     "output_type": "stream",
     "text": [
      "Frame 1989: 2 features\n",
      "Set all NaN in estimation precision to 0\n"
     ]
    },
    {
     "data": {
      "application/vnd.jupyter.widget-view+json": {
       "model_id": "3e2d834a2b27487ead4bf71bf7e15f28",
       "version_major": 2,
       "version_minor": 0
      },
      "text/plain": [
       "QgridWidget(grid_options={'fullWidthRows': True, 'syncColumnCellResize': True, 'forceFitColumns': True, 'defau…"
      ]
     },
     "metadata": {},
     "output_type": "display_data"
    }
   ],
   "source": [
    "reload(nd.get_trajectorie)\n",
    "obj_all = nd.get_trajectorie.FindSpots(rawframes_pre, ParameterJsonFile)\n",
    "\n",
    "qgrid.show_grid(obj_all, show_toolbar=True)"
   ]
  },
  {
   "cell_type": "markdown",
   "metadata": {},
   "source": [
    "## identify static objects - find trajectories of very slow diffusing (maybe stationary) objects"
   ]
  },
  {
   "cell_type": "code",
   "execution_count": 68,
   "metadata": {},
   "outputs": [
    {
     "name": "stdout",
     "output_type": "stream",
     "text": [
      "Frame 1989: 2 trajectories present.\n",
      "New method here.\n",
      "Minimum trajectorie length:  15.0\n",
      "Number of stationary objects (might be detected multiple times after being dark): 0\n"
     ]
    },
    {
     "data": {
      "application/vnd.jupyter.widget-view+json": {
       "model_id": "445eb6371b26468499a520836debfd7c",
       "version_major": 2,
       "version_minor": 0
      },
      "text/plain": [
       "QgridWidget(grid_options={'fullWidthRows': True, 'syncColumnCellResize': True, 'forceFitColumns': True, 'defau…"
      ]
     },
     "metadata": {},
     "output_type": "display_data"
    }
   ],
   "source": [
    "reload(nd.get_trajectorie)\n",
    "\n",
    "t1_orig_slow_diff = nd.get_trajectorie.link_df(obj_all, ParameterJsonFile, SearchFixedParticles = True)\n",
    "# qgrid.show_grid(t1_orig_slow_diff, show_toolbar=True)\n",
    "\n",
    "# delete trajectories which are not long enough. stationary objects have long trajcetories and survive the test   \n",
    "t2_stationary = nd.get_trajectorie.filter_stubs(t1_orig_slow_diff, ParameterJsonFile, FixedParticles = True, BeforeDriftCorrection = True)\n",
    "\n",
    "qgrid.show_grid(t2_stationary, show_toolbar=True)"
   ]
  },
  {
   "cell_type": "markdown",
   "metadata": {},
   "source": [
    "## cut trajectories when a moving particles comes to close to a stationary object"
   ]
  },
  {
   "cell_type": "code",
   "execution_count": 69,
   "metadata": {},
   "outputs": [
    {
     "name": "stdout",
     "output_type": "stream",
     "text": [
      "min_distance to stationary object:  20\n"
     ]
    }
   ],
   "source": [
    "obj_moving = nd.get_trajectorie.RemoveSpotsInNoGoAreas(obj_all, t2_stationary, ParameterJsonFile)\n",
    "\n",
    "#qgrid.show_grid(obj_moving, show_toolbar=True)"
   ]
  },
  {
   "cell_type": "markdown",
   "metadata": {},
   "source": [
    "## remove overexposed objects"
   ]
  },
  {
   "cell_type": "code",
   "execution_count": 70,
   "metadata": {},
   "outputs": [
    {
     "name": "stdout",
     "output_type": "stream",
     "text": [
      "Deleted overexposed particles!\n"
     ]
    }
   ],
   "source": [
    "obj_moving = nd.get_trajectorie.RemoveOverexposedObjects(ParameterJsonFile, obj_moving, rawframes_pre)\n",
    "# qgrid.show_grid(obj_moving, show_toolbar=True)"
   ]
  },
  {
   "cell_type": "markdown",
   "metadata": {},
   "source": [
    "## form trajectories of valid particle positions"
   ]
  },
  {
   "cell_type": "code",
   "execution_count": 71,
   "metadata": {},
   "outputs": [
    {
     "name": "stdout",
     "output_type": "stream",
     "text": [
      "Frame 1989: 2 trajectories present.\n"
     ]
    },
    {
     "data": {
      "application/vnd.jupyter.widget-view+json": {
       "model_id": "84579c37a5d64df5a797feaeda93d97b",
       "version_major": 2,
       "version_minor": 0
      },
      "text/plain": [
       "QgridWidget(grid_options={'fullWidthRows': True, 'syncColumnCellResize': True, 'forceFitColumns': True, 'defau…"
      ]
     },
     "metadata": {},
     "output_type": "display_data"
    }
   ],
   "source": [
    "t1_orig = nd.get_trajectorie.link_df(obj_moving, ParameterJsonFile, SearchFixedParticles = False) \n",
    "qgrid.show_grid(t1_orig, show_toolbar=True)"
   ]
  },
  {
   "cell_type": "markdown",
   "metadata": {},
   "source": [
    "## remove to short trajectories"
   ]
  },
  {
   "cell_type": "code",
   "execution_count": 72,
   "metadata": {},
   "outputs": [
    {
     "name": "stdout",
     "output_type": "stream",
     "text": [
      "Minimum trajectorie length:  15.0\n",
      "Too short trajectories removed!\n",
      "Before: 398, After: 48, Removed: 350 (87%)\n"
     ]
    },
    {
     "data": {
      "application/vnd.jupyter.widget-view+json": {
       "model_id": "079189639f4f47aba9d29c45b0a27a75",
       "version_major": 2,
       "version_minor": 0
      },
      "text/plain": [
       "QgridWidget(grid_options={'fullWidthRows': True, 'syncColumnCellResize': True, 'forceFitColumns': True, 'defau…"
      ]
     },
     "metadata": {},
     "output_type": "display_data"
    }
   ],
   "source": [
    "t2_long = nd.get_trajectorie.filter_stubs(t1_orig, ParameterJsonFile, FixedParticles = False, BeforeDriftCorrection = True)\n",
    "qgrid.show_grid(t2_long, show_toolbar=True)"
   ]
  },
  {
   "cell_type": "markdown",
   "metadata": {},
   "source": [
    "## identify and close gaps in the trajectory & calculate intensity fluctuations as a sign of wrong assignment"
   ]
  },
  {
   "cell_type": "code",
   "execution_count": 73,
   "metadata": {},
   "outputs": [
    {
     "name": "stdout",
     "output_type": "stream",
     "text": [
      "Close gaps in trajectories: [##################################################] 100% DONE\n"
     ]
    }
   ],
   "source": [
    "t3_gapless = nd.get_trajectorie.close_gaps(t2_long)\n",
    "t3_gapless = nd.get_trajectorie.calc_intensity_fluctuations(t3_gapless, ParameterJsonFile)\n",
    "# qgrid.show_grid(t3_gapless, show_toolbar=True)"
   ]
  },
  {
   "cell_type": "markdown",
   "metadata": {},
   "source": [
    "## split trajectories if necessary (e.g. to large intensity jumps)"
   ]
  },
  {
   "cell_type": "code",
   "execution_count": 74,
   "metadata": {},
   "outputs": [
    {
     "name": "stdout",
     "output_type": "stream",
     "text": [
      "Trajectories with risk of wrong assignments (i.e. before splitting): 48\n",
      "Trajectories with reduced risk of wrong assignments (i.e. after splitting): 48\n",
      "Number of performed trajectory splits: 0\n",
      "Number of concerned trajectories: 0 (0%)\n",
      "Number of trajectories that became too short and were filtered out: 0\n",
      "Close gaps in trajectories: [##################################################] 100% DONE\n"
     ]
    }
   ],
   "source": [
    "t4_cutted, t4_cutted_no_gaps = nd.get_trajectorie.split_traj(t2_long, t3_gapless, ParameterJsonFile)\n",
    "# qgrid.show_grid(t4_cutted, show_toolbar=True)"
   ]
  },
  {
   "cell_type": "markdown",
   "metadata": {},
   "source": [
    "## drift correction"
   ]
  },
  {
   "cell_type": "code",
   "execution_count": 75,
   "metadata": {},
   "outputs": [
    {
     "data": {
      "application/vnd.jupyter.widget-view+json": {
       "model_id": "cf82e401869a4ab3878ac684af79d0c8",
       "version_major": 2,
       "version_minor": 0
      },
      "text/plain": [
       "QgridWidget(grid_options={'fullWidthRows': True, 'syncColumnCellResize': True, 'forceFitColumns': True, 'defau…"
      ]
     },
     "metadata": {},
     "output_type": "display_data"
    }
   ],
   "source": [
    "t5_no_drift = nd.Drift.DriftCorrection(t4_cutted, ParameterJsonFile, PlotGlobalDrift = False)\n",
    "qgrid.show_grid(t5_no_drift, show_toolbar=True)"
   ]
  },
  {
   "cell_type": "markdown",
   "metadata": {},
   "source": [
    "## only long trajectories are used in the msd plort in order to get a good fit"
   ]
  },
  {
   "cell_type": "code",
   "execution_count": 76,
   "metadata": {},
   "outputs": [
    {
     "name": "stdout",
     "output_type": "stream",
     "text": [
      "Minimum trajectorie length:  15.0\n",
      "Too short trajectories removed!\n",
      "Before: 48, After: 48, Removed: 0 (0%)\n"
     ]
    }
   ],
   "source": [
    "t6_final = nd.get_trajectorie.filter_stubs(t5_no_drift, ParameterJsonFile, FixedParticles = False, BeforeDriftCorrection = False)\n",
    "# qgrid.show_grid(t6_final, show_toolbar=True)"
   ]
  },
  {
   "cell_type": "markdown",
   "metadata": {},
   "source": [
    "## calculate the msd and process to diffusion and diameter"
   ]
  },
  {
   "cell_type": "code",
   "execution_count": 78,
   "metadata": {},
   "outputs": [
    {
     "name": "stdout",
     "output_type": "stream",
     "text": [
      "\n",
      " Particle number:  30\n",
      "Starting Diameter: 101.1nm; hindrance factor: 1.036; Corrected Diameter: 97.74nm\n",
      "\n",
      " Particle number:  32\n",
      "To many holes in trajectory to have enough data points. \n",
      " Number of data points must be larger than (amount_summands * lagtimes_max). \n",
      " Consider optimizing parameters Dark tim, Min_tracking_frames, amount_summands, lagtimes_max\n",
      "\n",
      " Particle number:  41\n",
      "Starting Diameter: 94.8nm; hindrance factor: 1.034; Corrected Diameter: 91.75nm\n",
      "\n",
      " Particle number:  53\n",
      "Starting Diameter: 110.4nm; hindrance factor: 1.038; Corrected Diameter: 106.36nm\n",
      "\n",
      " Particle number:  58\n",
      "Trajectory is to short to have enough data points. \n",
      " Trajectorie length must be larger than (amount_summands * lagtimes_max). \n",
      " Consider optimizing parameters Min_tracking_frames, amount_summands, lagtimes_max.\n",
      "\n",
      " Particle number:  63\n",
      "Starting Diameter: 116.0nm; hindrance factor: 1.040; Corrected Diameter: 111.57nm\n",
      "\n",
      " Particle number:  74\n",
      "Starting Diameter: 203.6nm; hindrance factor: 1.062; Corrected Diameter: 191.73nm\n",
      "\n",
      " Particle number:  76\n",
      "To many holes in trajectory to have enough data points. \n",
      " Number of data points must be larger than (amount_summands * lagtimes_max). \n",
      " Consider optimizing parameters Dark tim, Min_tracking_frames, amount_summands, lagtimes_max\n",
      "\n",
      " Particle number:  97\n",
      "Starting Diameter: 153.8nm; hindrance factor: 1.050; Corrected Diameter: 146.60nm\n",
      "\n",
      " Particle number:  112\n",
      "To many holes in trajectory to have enough data points. \n",
      " Number of data points must be larger than (amount_summands * lagtimes_max). \n",
      " Consider optimizing parameters Dark tim, Min_tracking_frames, amount_summands, lagtimes_max\n",
      "\n",
      " Particle number:  118\n",
      "Starting Diameter: 76.8nm; hindrance factor: 1.029; Corrected Diameter: 74.74nm\n",
      "\n",
      " Particle number:  129\n",
      "To many holes in trajectory to have enough data points. \n",
      " Number of data points must be larger than (amount_summands * lagtimes_max). \n",
      " Consider optimizing parameters Dark tim, Min_tracking_frames, amount_summands, lagtimes_max\n",
      "\n",
      " Particle number:  143\n",
      "Starting Diameter: 116.1nm; hindrance factor: 1.040; Corrected Diameter: 111.69nm\n",
      "\n",
      " Particle number:  145\n",
      "Starting Diameter: 101.3nm; hindrance factor: 1.036; Corrected Diameter: 97.85nm\n",
      "\n",
      " Particle number:  152\n",
      "Starting Diameter: 88.7nm; hindrance factor: 1.032; Corrected Diameter: 86.05nm\n",
      "\n",
      " Particle number:  161\n",
      "Error in Traj. This can be plotted, if code here is switched on.\n",
      "Trajectory has error. Particle ID:  161\n",
      "Kolmogorow-Smirnow-Test: significance:  0.02555037738012542\n",
      "\n",
      " Particle number:  174\n",
      "Starting Diameter: 102.5nm; hindrance factor: 1.036; Corrected Diameter: 98.98nm\n",
      "\n",
      " Particle number:  181\n",
      "Error in Traj. This can be plotted, if code here is switched on.\n",
      "Trajectory has error. Particle ID:  181\n",
      "Kolmogorow-Smirnow-Test: significance:  5.972669206997712e-06\n",
      "\n",
      " Particle number:  206\n",
      "Starting Diameter: 72.7nm; hindrance factor: 1.027; Corrected Diameter: 70.84nm\n",
      "\n",
      " Particle number:  219\n",
      "Starting Diameter: 48.9nm; hindrance factor: 1.020; Corrected Diameter: 48.02nm\n",
      "\n",
      " Particle number:  231\n",
      "Starting Diameter: 80.8nm; hindrance factor: 1.030; Corrected Diameter: 78.52nm\n",
      "\n",
      " Particle number:  250\n",
      "Starting Diameter: 107.3nm; hindrance factor: 1.037; Corrected Diameter: 103.45nm\n",
      "\n",
      " Particle number:  267\n",
      "Starting Diameter: 109.3nm; hindrance factor: 1.038; Corrected Diameter: 105.38nm\n",
      "\n",
      " Particle number:  269\n",
      "Starting Diameter: 63.4nm; hindrance factor: 1.025; Corrected Diameter: 61.98nm\n",
      "\n",
      " Particle number:  274\n",
      "Starting Diameter: 109.5nm; hindrance factor: 1.038; Corrected Diameter: 105.51nm\n",
      "\n",
      " Particle number:  281\n",
      "Starting Diameter: 130.7nm; hindrance factor: 1.044; Corrected Diameter: 125.27nm\n",
      "\n",
      " Particle number:  283\n",
      "Starting Diameter: 29.4nm; hindrance factor: 1.013; Corrected Diameter: 29.09nm\n",
      "\n",
      " Particle number:  284\n",
      "Starting Diameter: 98.8nm; hindrance factor: 1.035; Corrected Diameter: 95.53nm\n",
      "\n",
      " Particle number:  286\n",
      "Starting Diameter: 124.6nm; hindrance factor: 1.042; Corrected Diameter: 119.60nm\n",
      "\n",
      " Particle number:  301\n",
      "To many holes in trajectory to have enough data points. \n",
      " Number of data points must be larger than (amount_summands * lagtimes_max). \n",
      " Consider optimizing parameters Dark tim, Min_tracking_frames, amount_summands, lagtimes_max\n",
      "\n",
      " Particle number:  302\n",
      "To many holes in trajectory to have enough data points. \n",
      " Number of data points must be larger than (amount_summands * lagtimes_max). \n",
      " Consider optimizing parameters Dark tim, Min_tracking_frames, amount_summands, lagtimes_max\n",
      "\n",
      " Particle number:  309\n",
      "Starting Diameter: 145.1nm; hindrance factor: 1.048; Corrected Diameter: 138.59nm\n",
      "\n",
      " Particle number:  315\n",
      "Starting Diameter: 74.8nm; hindrance factor: 1.028; Corrected Diameter: 72.85nm\n",
      "\n",
      " Particle number:  326\n",
      "Starting Diameter: 82.3nm; hindrance factor: 1.030; Corrected Diameter: 79.96nm\n",
      "\n",
      " Particle number:  334\n",
      "Starting Diameter: 124.4nm; hindrance factor: 1.042; Corrected Diameter: 119.46nm\n",
      "\n",
      " Particle number:  341\n",
      "Starting Diameter: 84.9nm; hindrance factor: 1.031; Corrected Diameter: 82.37nm\n",
      "\n",
      " Particle number:  342\n",
      "To many holes in trajectory to have enough data points. \n",
      " Number of data points must be larger than (amount_summands * lagtimes_max). \n",
      " Consider optimizing parameters Dark tim, Min_tracking_frames, amount_summands, lagtimes_max\n",
      "\n",
      " Particle number:  346\n",
      "To many holes in trajectory to have enough data points. \n",
      " Number of data points must be larger than (amount_summands * lagtimes_max). \n",
      " Consider optimizing parameters Dark tim, Min_tracking_frames, amount_summands, lagtimes_max\n",
      "\n",
      " Particle number:  347\n",
      "Starting Diameter: 81.9nm; hindrance factor: 1.030; Corrected Diameter: 79.54nm\n",
      "\n",
      " Particle number:  350\n",
      "Starting Diameter: 89.8nm; hindrance factor: 1.033; Corrected Diameter: 87.10nm\n",
      "\n",
      " Particle number:  351\n",
      "Starting Diameter: 83.3nm; hindrance factor: 1.031; Corrected Diameter: 80.89nm\n",
      "\n",
      " Particle number:  355\n",
      "Starting Diameter: 82.4nm; hindrance factor: 1.030; Corrected Diameter: 80.05nm\n",
      "\n",
      " Particle number:  357\n",
      "To many holes in trajectory to have enough data points. \n",
      " Number of data points must be larger than (amount_summands * lagtimes_max). \n",
      " Consider optimizing parameters Dark tim, Min_tracking_frames, amount_summands, lagtimes_max\n",
      "\n",
      " Particle number:  360\n",
      "Starting Diameter: 147.5nm; hindrance factor: 1.048; Corrected Diameter: 140.79nm\n",
      "\n",
      " Particle number:  372\n",
      "Starting Diameter: 110.5nm; hindrance factor: 1.038; Corrected Diameter: 106.51nm\n",
      "\n",
      " Particle number:  382\n",
      "Starting Diameter: 119.1nm; hindrance factor: 1.041; Corrected Diameter: 114.50nm\n",
      "\n",
      " Particle number:  385\n",
      "Starting Diameter: 118.3nm; hindrance factor: 1.041; Corrected Diameter: 113.75nm\n",
      "\n",
      " Particle number:  391\n",
      "Trajectory is to short to have enough data points. \n",
      " Trajectorie length must be larger than (amount_summands * lagtimes_max). \n",
      " Consider optimizing parameters Min_tracking_frames, amount_summands, lagtimes_max.\n"
     ]
    },
    {
     "data": {
      "application/vnd.jupyter.widget-view+json": {
       "model_id": "e46727978c414c1a81493fdc578d8c35",
       "version_major": 2,
       "version_minor": 0
      },
      "text/plain": [
       "QgridWidget(grid_options={'fullWidthRows': True, 'syncColumnCellResize': True, 'forceFitColumns': True, 'defau…"
      ]
     },
     "metadata": {},
     "output_type": "display_data"
    },
    {
     "data": {
      "image/png": "[encoded data removed]",
      "text/plain": [
       "<Figure size 576x432 with 1 Axes>"
      ]
     },
     "metadata": {
      "needs_background": "light"
     },
     "output_type": "display_data"
    }
   ],
   "source": [
    "reload(nd.CalcDiameter)\n",
    "sizes_df_lin, sizes_df_lin_rolling , any_successful_check = nd.CalcDiameter.Main(t6_final, ParameterJsonFile, obj_all, MSD_fit_Show = True)\n",
    "qgrid.show_grid(sizes_df_lin, show_toolbar=True)"
   ]
  },
  {
   "cell_type": "markdown",
   "metadata": {},
   "source": [
    "## visualiz results"
   ]
  },
  {
   "cell_type": "code",
   "execution_count": 48,
   "metadata": {},
   "outputs": [
    {
     "ename": "ValueError",
     "evalue": "`bins` must be positive, when an integer",
     "output_type": "error",
     "traceback": [
      "\u001b[1;31m---------------------------------------------------------------------------\u001b[0m",
      "\u001b[1;31mValueError\u001b[0m                                Traceback (most recent call last)",
      "\u001b[1;32m<ipython-input-48-0d4e0d1aa3c0>\u001b[0m in \u001b[0;36m<module>\u001b[1;34m\u001b[0m\n\u001b[1;32m----> 1\u001b[1;33m \u001b[0mnd\u001b[0m\u001b[1;33m.\u001b[0m\u001b[0mvisualize\u001b[0m\u001b[1;33m.\u001b[0m\u001b[0mPlotDiameters\u001b[0m\u001b[1;33m(\u001b[0m\u001b[0mParameterJsonFile\u001b[0m\u001b[1;33m,\u001b[0m \u001b[0msizes_df_lin\u001b[0m\u001b[1;33m,\u001b[0m \u001b[0many_successful_check\u001b[0m\u001b[1;33m)\u001b[0m\u001b[1;33m\u001b[0m\u001b[1;33m\u001b[0m\u001b[0m\n\u001b[0m",
      "\u001b[1;32m~\\Documents\\GitHub\\NanoObjectDetection\\visualize.py\u001b[0m in \u001b[0;36mPlotDiameters\u001b[1;34m(ParameterJsonFile, sizes_df_lin, any_successful_check, histogramm_min, histogramm_max, Histogramm_min_max_auto, binning)\u001b[0m\n\u001b[0;32m    159\u001b[0m         \u001b[0mshow_hist\u001b[0m\u001b[1;33m,\u001b[0m \u001b[0msave_hist\u001b[0m \u001b[1;33m=\u001b[0m \u001b[0msettings\u001b[0m\u001b[1;33m[\u001b[0m\u001b[1;34m\"Plot\"\u001b[0m\u001b[1;33m]\u001b[0m\u001b[1;33m[\u001b[0m\u001b[1;34m\"Histogramm_Show\"\u001b[0m\u001b[1;33m]\u001b[0m\u001b[1;33m,\u001b[0m \u001b[0msettings\u001b[0m\u001b[1;33m[\u001b[0m\u001b[1;34m\"Plot\"\u001b[0m\u001b[1;33m]\u001b[0m\u001b[1;33m[\u001b[0m\u001b[1;34m\"Histogramm_Save\"\u001b[0m\u001b[1;33m]\u001b[0m\u001b[1;33m\u001b[0m\u001b[1;33m\u001b[0m\u001b[0m\n\u001b[0;32m    160\u001b[0m         \u001b[1;32mif\u001b[0m \u001b[0mshow_hist\u001b[0m \u001b[1;32mor\u001b[0m \u001b[0msave_hist\u001b[0m\u001b[1;33m:\u001b[0m\u001b[1;33m\u001b[0m\u001b[1;33m\u001b[0m\u001b[0m\n\u001b[1;32m--> 161\u001b[1;33m             \u001b[0mDiameterHistogramm\u001b[0m\u001b[1;33m(\u001b[0m\u001b[0mParameterJsonFile\u001b[0m\u001b[1;33m,\u001b[0m \u001b[0msizes_df_lin\u001b[0m\u001b[1;33m)\u001b[0m\u001b[1;33m\u001b[0m\u001b[1;33m\u001b[0m\u001b[0m\n\u001b[0m\u001b[0;32m    162\u001b[0m \u001b[1;33m\u001b[0m\u001b[0m\n\u001b[0;32m    163\u001b[0m \u001b[1;33m\u001b[0m\u001b[0m\n",
      "\u001b[1;32m~\\Documents\\GitHub\\NanoObjectDetection\\visualize.py\u001b[0m in \u001b[0;36mDiameterHistogramm\u001b[1;34m(ParameterJsonFile, sizes_df_lin, histogramm_min, histogramm_max, Histogramm_min_max_auto, binning)\u001b[0m\n\u001b[0;32m    568\u001b[0m     \u001b[0mtitle\u001b[0m \u001b[1;33m=\u001b[0m \u001b[1;34m'Amount of particles analyzed = %r'\u001b[0m \u001b[1;33m%\u001b[0m \u001b[0mlen\u001b[0m\u001b[1;33m(\u001b[0m\u001b[0msizes_df_lin\u001b[0m\u001b[1;33m)\u001b[0m\u001b[1;33m\u001b[0m\u001b[1;33m\u001b[0m\u001b[0m\n\u001b[0;32m    569\u001b[0m \u001b[1;33m\u001b[0m\u001b[0m\n\u001b[1;32m--> 570\u001b[1;33m     \u001b[0mvalues_hist\u001b[0m \u001b[1;33m=\u001b[0m \u001b[0mnd\u001b[0m\u001b[1;33m.\u001b[0m\u001b[0mvisualize\u001b[0m\u001b[1;33m.\u001b[0m\u001b[0mPlotDiameterHistogramm\u001b[0m\u001b[1;33m(\u001b[0m\u001b[0msizes_df_lin\u001b[0m\u001b[1;33m,\u001b[0m \u001b[0mbinning\u001b[0m\u001b[1;33m,\u001b[0m \u001b[0mhistogramm_min\u001b[0m\u001b[1;33m,\u001b[0m \u001b[0mhistogramm_max\u001b[0m\u001b[1;33m,\u001b[0m \u001b[0mtitle\u001b[0m\u001b[1;33m,\u001b[0m \u001b[0mxlabel\u001b[0m\u001b[1;33m,\u001b[0m \u001b[0mylabel\u001b[0m\u001b[1;33m)\u001b[0m\u001b[1;33m\u001b[0m\u001b[1;33m\u001b[0m\u001b[0m\n\u001b[0m\u001b[0;32m    571\u001b[0m \u001b[1;33m\u001b[0m\u001b[0m\n\u001b[0;32m    572\u001b[0m     \u001b[1;32mif\u001b[0m \u001b[0msettings\u001b[0m\u001b[1;33m[\u001b[0m\u001b[1;34m\"Plot\"\u001b[0m\u001b[1;33m]\u001b[0m\u001b[1;33m[\u001b[0m\u001b[1;34m\"Histogramm_Fit_1_Particle\"\u001b[0m\u001b[1;33m]\u001b[0m \u001b[1;33m==\u001b[0m \u001b[1;36m1\u001b[0m\u001b[1;33m:\u001b[0m\u001b[1;33m\u001b[0m\u001b[1;33m\u001b[0m\u001b[0m\n",
      "\u001b[1;32m~\\Documents\\GitHub\\NanoObjectDetection\\visualize.py\u001b[0m in \u001b[0;36mPlotDiameterHistogramm\u001b[1;34m(sizes_df_lin, binning, histogramm_min, histogramm_max, title, xlabel, ylabel)\u001b[0m\n\u001b[0;32m    721\u001b[0m     \u001b[0mdiameters\u001b[0m \u001b[1;33m=\u001b[0m \u001b[0msizes_df_lin\u001b[0m\u001b[1;33m.\u001b[0m\u001b[0mdiameter\u001b[0m\u001b[1;33m\u001b[0m\u001b[1;33m\u001b[0m\u001b[0m\n\u001b[0;32m    722\u001b[0m     \u001b[0mshow_diameters\u001b[0m \u001b[1;33m=\u001b[0m \u001b[0mdiameters\u001b[0m\u001b[1;33m[\u001b[0m\u001b[1;33m(\u001b[0m\u001b[0mdiameters\u001b[0m \u001b[1;33m>=\u001b[0m \u001b[0mhistogramm_min\u001b[0m\u001b[1;33m)\u001b[0m \u001b[1;33m&\u001b[0m \u001b[1;33m(\u001b[0m\u001b[0mdiameters\u001b[0m \u001b[1;33m<=\u001b[0m \u001b[0mhistogramm_max\u001b[0m\u001b[1;33m)\u001b[0m\u001b[1;33m]\u001b[0m\u001b[1;33m\u001b[0m\u001b[1;33m\u001b[0m\u001b[0m\n\u001b[1;32m--> 723\u001b[1;33m     \u001b[0mvalues_hist\u001b[0m\u001b[1;33m,\u001b[0m \u001b[0mpositions_hist\u001b[0m \u001b[1;33m=\u001b[0m \u001b[0mnp\u001b[0m\u001b[1;33m.\u001b[0m\u001b[0mhistogram\u001b[0m\u001b[1;33m(\u001b[0m\u001b[0msizes_df_lin\u001b[0m\u001b[1;33m[\u001b[0m\u001b[1;34m\"diameter\"\u001b[0m\u001b[1;33m]\u001b[0m\u001b[1;33m,\u001b[0m \u001b[0mbins\u001b[0m \u001b[1;33m=\u001b[0m \u001b[0mbinning\u001b[0m\u001b[1;33m)\u001b[0m\u001b[1;33m\u001b[0m\u001b[1;33m\u001b[0m\u001b[0m\n\u001b[0m\u001b[0;32m    724\u001b[0m     \u001b[1;31m# histogram of sizes, only taking into account\u001b[0m\u001b[1;33m\u001b[0m\u001b[1;33m\u001b[0m\u001b[1;33m\u001b[0m\u001b[0m\n\u001b[0;32m    725\u001b[0m     \u001b[0msns\u001b[0m\u001b[1;33m.\u001b[0m\u001b[0mdistplot\u001b[0m\u001b[1;33m(\u001b[0m\u001b[0mshow_diameters\u001b[0m\u001b[1;33m,\u001b[0m \u001b[0mbins\u001b[0m\u001b[1;33m=\u001b[0m\u001b[0mbinning\u001b[0m\u001b[1;33m,\u001b[0m \u001b[0mrug\u001b[0m\u001b[1;33m=\u001b[0m\u001b[1;32mTrue\u001b[0m\u001b[1;33m,\u001b[0m \u001b[0mkde\u001b[0m\u001b[1;33m=\u001b[0m\u001b[1;32mFalse\u001b[0m\u001b[1;33m)\u001b[0m\u001b[1;33m\u001b[0m\u001b[1;33m\u001b[0m\u001b[0m\n",
      "\u001b[1;32m<__array_function__ internals>\u001b[0m in \u001b[0;36mhistogram\u001b[1;34m(*args, **kwargs)\u001b[0m\n",
      "\u001b[1;32m~\\AppData\\Local\\Continuum\\anaconda3\\envs\\env_nd\\lib\\site-packages\\numpy\\lib\\histograms.py\u001b[0m in \u001b[0;36mhistogram\u001b[1;34m(a, bins, range, normed, weights, density)\u001b[0m\n\u001b[0;32m    783\u001b[0m     \u001b[0ma\u001b[0m\u001b[1;33m,\u001b[0m \u001b[0mweights\u001b[0m \u001b[1;33m=\u001b[0m \u001b[0m_ravel_and_check_weights\u001b[0m\u001b[1;33m(\u001b[0m\u001b[0ma\u001b[0m\u001b[1;33m,\u001b[0m \u001b[0mweights\u001b[0m\u001b[1;33m)\u001b[0m\u001b[1;33m\u001b[0m\u001b[1;33m\u001b[0m\u001b[0m\n\u001b[0;32m    784\u001b[0m \u001b[1;33m\u001b[0m\u001b[0m\n\u001b[1;32m--> 785\u001b[1;33m     \u001b[0mbin_edges\u001b[0m\u001b[1;33m,\u001b[0m \u001b[0muniform_bins\u001b[0m \u001b[1;33m=\u001b[0m \u001b[0m_get_bin_edges\u001b[0m\u001b[1;33m(\u001b[0m\u001b[0ma\u001b[0m\u001b[1;33m,\u001b[0m \u001b[0mbins\u001b[0m\u001b[1;33m,\u001b[0m \u001b[0mrange\u001b[0m\u001b[1;33m,\u001b[0m \u001b[0mweights\u001b[0m\u001b[1;33m)\u001b[0m\u001b[1;33m\u001b[0m\u001b[1;33m\u001b[0m\u001b[0m\n\u001b[0m\u001b[0;32m    786\u001b[0m \u001b[1;33m\u001b[0m\u001b[0m\n\u001b[0;32m    787\u001b[0m     \u001b[1;31m# Histogram is an integer or a float array depending on the weights.\u001b[0m\u001b[1;33m\u001b[0m\u001b[1;33m\u001b[0m\u001b[1;33m\u001b[0m\u001b[0m\n",
      "\u001b[1;32m~\\AppData\\Local\\Continuum\\anaconda3\\envs\\env_nd\\lib\\site-packages\\numpy\\lib\\histograms.py\u001b[0m in \u001b[0;36m_get_bin_edges\u001b[1;34m(a, bins, range, weights)\u001b[0m\n\u001b[0;32m    415\u001b[0m                 '`bins` must be an integer, a string, or an array')\n\u001b[0;32m    416\u001b[0m         \u001b[1;32mif\u001b[0m \u001b[0mn_equal_bins\u001b[0m \u001b[1;33m<\u001b[0m \u001b[1;36m1\u001b[0m\u001b[1;33m:\u001b[0m\u001b[1;33m\u001b[0m\u001b[1;33m\u001b[0m\u001b[0m\n\u001b[1;32m--> 417\u001b[1;33m             \u001b[1;32mraise\u001b[0m \u001b[0mValueError\u001b[0m\u001b[1;33m(\u001b[0m\u001b[1;34m'`bins` must be positive, when an integer'\u001b[0m\u001b[1;33m)\u001b[0m\u001b[1;33m\u001b[0m\u001b[1;33m\u001b[0m\u001b[0m\n\u001b[0m\u001b[0;32m    418\u001b[0m \u001b[1;33m\u001b[0m\u001b[0m\n\u001b[0;32m    419\u001b[0m         \u001b[0mfirst_edge\u001b[0m\u001b[1;33m,\u001b[0m \u001b[0mlast_edge\u001b[0m \u001b[1;33m=\u001b[0m \u001b[0m_get_outer_edges\u001b[0m\u001b[1;33m(\u001b[0m\u001b[0ma\u001b[0m\u001b[1;33m,\u001b[0m \u001b[0mrange\u001b[0m\u001b[1;33m)\u001b[0m\u001b[1;33m\u001b[0m\u001b[1;33m\u001b[0m\u001b[0m\n",
      "\u001b[1;31mValueError\u001b[0m: `bins` must be positive, when an integer"
     ]
    },
    {
     "data": {
      "image/png": "[encoded data removed]",
      "text/plain": [
       "<Figure size 576x432 with 1 Axes>"
      ]
     },
     "metadata": {
      "needs_background": "light"
     },
     "output_type": "display_data"
    }
   ],
   "source": [
    "nd.visualize.PlotDiameters(ParameterJsonFile, sizes_df_lin, any_successful_check)"
   ]
  },
  {
   "cell_type": "code",
   "execution_count": null,
   "metadata": {},
   "outputs": [],
   "source": [
    "fig = plt.figure()\n",
    "import matplotlib.colors as colors\n"
   ]
  },
  {
   "cell_type": "code",
   "execution_count": null,
   "metadata": {},
   "outputs": [],
   "source": [
    "from ipywidgets import IntSlider, IntRangeSlider, FloatLogSlider\n",
    "import matplotlib.colors as colors\n",
    "\n",
    "[max_f, max_y, max_x] = np.asarray(rawframes_ROI.shape) - 1\n",
    "\n",
    "def ShowRawImage(frame, y_range, x_range, my_gamma):  \n",
    "    \n",
    "    fig, axes = plt.subplots(3,1, sharex = True,figsize=(15,10))\n",
    "    \n",
    "    y_min = y_range[0]\n",
    "    y_max = y_range[1]+1\n",
    "    x_min = x_range[0]\n",
    "    x_max = x_range[1]+1\n",
    "     \n",
    "    axes[0].imshow(rawframes_ROI[frame,y_min:y_max, x_min:x_max], cmap = 'gray', norm=colors.PowerNorm(gamma=my_gamma))\n",
    "    axes[0].set_title(\"Raw Image\")\n",
    "    axes[0].set_ylabel(\"y [Px]\")\n",
    "    \n",
    "    axes[1].imshow(static_background[y_min:y_max, x_min:x_max], cmap = 'gray', norm=colors.PowerNorm(gamma=my_gamma))\n",
    "    axes[1].set_title(\"Background\")\n",
    "    axes[1].set_ylabel(\"y [Px]\")\n",
    "    \n",
    "    axes[2].imshow(rawframes_pre[frame, y_min:y_max, x_min:x_max], cmap = 'gray', norm=colors.PowerNorm(gamma=my_gamma))\n",
    "    axes[2].set_title(\"Corrected Background\")\n",
    "    axes[2].set_xlabel(\"x [Px]\")\n",
    "    axes[2].set_ylabel(\"y [Px]\")    \n",
    "    \n",
    "    fig.tight_layout()\n",
    "    \n",
    "    \n",
    "frame_slider = IntSlider(min = 1, max = max_f, description = \"Frame\")    \n",
    "y_range_slider = IntRangeSlider(value=[0, max_y], min=0, max=max_y, description = \"ROI - y\")\n",
    "x_range_slider = IntRangeSlider(value=[0, max_x], min=0, max=max_x, description = \"ROI - x\")\n",
    "gamma_slider = FloatSlider(min = 0.1, max = 2, step = 0.05, value = 1)  \n",
    "    \n",
    "interact(ShowRawImage, frame = frame_slider, y_range = y_range_slider, x_range = x_range_slider, my_gamma = gamma_slider)"
   ]
  },
  {
   "cell_type": "code",
   "execution_count": null,
   "metadata": {},
   "outputs": [],
   "source": [
    "from ipywidgets import interact, interactive, fixed, interact_manual\n",
    "import ipywidgets as widgets\n",
    "# run \"jupyter nbextension enable --py widgetsnbextension\" in anaconda prompt\n",
    "# conda install -n base -c conda-forge widgetsnbextension\n",
    "# conda install -c conda-forge nodejs\n",
    "# jupyter labextension install @jupyter-widgets/jupyterlab-manager\n",
    "\n",
    "import numpy as np\n",
    "import matplotlib.pyplot as plt\n",
    "def f(x):\n",
    "    plt.plot(np.arange(0,10), x*np.arange(0,10))\n",
    "    plt.ylim(-30,30)\n",
    "    \n",
    "interact(f, x=1)"
   ]
  },
  {
   "cell_type": "code",
   "execution_count": 96,
   "metadata": {},
   "outputs": [
    {
     "ename": "NameError",
     "evalue": "name 'sizes_df_lin' is not defined",
     "output_type": "error",
     "traceback": [
      "\u001b[1;31m---------------------------------------------------------------------------\u001b[0m",
      "\u001b[1;31mNameError\u001b[0m                                 Traceback (most recent call last)",
      "\u001b[1;32m<ipython-input-96-8615e0a0aa2b>\u001b[0m in \u001b[0;36m<module>\u001b[1;34m\u001b[0m\n\u001b[1;32m----> 1\u001b[1;33m \u001b[0msizes_df_lin\u001b[0m\u001b[1;33m\u001b[0m\u001b[1;33m\u001b[0m\u001b[0m\n\u001b[0m",
      "\u001b[1;31mNameError\u001b[0m: name 'sizes_df_lin' is not defined"
     ]
    }
   ],
   "source": []
  }
 ],
 "metadata": {
  "kernelspec": {
   "display_name": "Python 3",
   "language": "python",
   "name": "python3"
  },
  "language_info": {
   "codemirror_mode": {
    "name": "ipython",
    "version": 3
   },
   "file_extension": ".py",
   "mimetype": "text/x-python",
   "name": "python",
   "nbconvert_exporter": "python",
   "pygments_lexer": "ipython3",
   "version": "3.7.5"
  }
 },
 "nbformat": 4,
 "nbformat_minor": 4
}
