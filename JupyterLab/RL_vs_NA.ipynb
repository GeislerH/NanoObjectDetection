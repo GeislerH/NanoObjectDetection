{
 "cells": [
  {
   "cell_type": "markdown",
   "metadata": {},
   "source": [
    "# Richardson-Lucy vs NA\n",
    "Using a high NA is desireable, because it collects more photons than low NA imaging\n",
    "However, the depth of focus a high NA objective is smaller than the channel size and leads to a defocus if the particle leaves the center"
   ]
  },
  {
   "cell_type": "code",
   "execution_count": 4,
   "metadata": {},
   "outputs": [],
   "source": [
    "import sys\n",
    "sys.path.append(\"C:\\\\Users\\\\foersterronny\\\\Documents\\\\GitHub\") # go to parent dir\n",
    "\n",
    "import numpy as np\n",
    "import NanoObjectDetection as nd\n",
    "\n",
    "from importlib import reload"
   ]
  },
  {
   "cell_type": "code",
   "execution_count": null,
   "metadata": {},
   "outputs": [
    {
     "name": "stdout",
     "output_type": "stream",
     "text": [
      "mean center of mass =  [102.19980939 140.19918174]\n",
      "std center of mass =  [0.39941752 0.39938826]\n",
      "std center of mass total =  2872.1778839301196\n",
      "use other penalty???\n",
      "bead at:  [101 139]\n"
     ]
    }
   ],
   "source": [
    "reload(nd)\n",
    "\n",
    "mypsf, image, correl, test, signal = \\\n",
    "nd.Simulation.DefocusCrossCorrelation(NA = 0.8, n = 1, sampling_z = 1000, shape_z = 50, use_z = 6, ShowPlot = True)"
   ]
  },
  {
   "cell_type": "code",
   "execution_count": null,
   "metadata": {},
   "outputs": [],
   "source": []
  }
 ],
 "metadata": {
  "kernelspec": {
   "display_name": "Python 3",
   "language": "python",
   "name": "python3"
  },
  "language_info": {
   "codemirror_mode": {
    "name": "ipython",
    "version": 3
   },
   "file_extension": ".py",
   "mimetype": "text/x-python",
   "name": "python",
   "nbconvert_exporter": "python",
   "pygments_lexer": "ipython3",
   "version": "3.7.5"
  }
 },
 "nbformat": 4,
 "nbformat_minor": 4
}
