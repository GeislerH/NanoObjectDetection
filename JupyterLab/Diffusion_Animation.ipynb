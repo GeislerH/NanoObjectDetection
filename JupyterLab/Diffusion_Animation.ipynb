{
 "cells": [
  {
   "cell_type": "code",
   "execution_count": 72,
   "metadata": {},
   "outputs": [],
   "source": [
    "import numpy as np\n",
    "import matplotlib.pyplot as plt\n",
    "import scipy"
   ]
  },
  {
   "cell_type": "code",
   "execution_count": 114,
   "metadata": {},
   "outputs": [
    {
     "name": "stdout",
     "output_type": "stream",
     "text": [
      "lim 1 -107\n",
      "lim 2 -54\n"
     ]
    },
    {
     "ename": "ValueError",
     "evalue": "operands could not be broadcast together with shapes (64,10) (64,53) (64,10) ",
     "output_type": "error",
     "traceback": [
      "\u001b[1;31m---------------------------------------------------------------------------\u001b[0m",
      "\u001b[1;31mValueError\u001b[0m                                Traceback (most recent call last)",
      "\u001b[1;32m<ipython-input-114-ebf49053a13f>\u001b[0m in \u001b[0;36m<module>\u001b[1;34m\u001b[0m\n\u001b[0;32m     54\u001b[0m \u001b[1;33m\u001b[0m\u001b[0m\n\u001b[0;32m     55\u001b[0m \u001b[0mblur_func\u001b[0m \u001b[1;33m=\u001b[0m \u001b[0mMirrorOnWall\u001b[0m\u001b[1;33m(\u001b[0m\u001b[0mblur\u001b[0m\u001b[1;33m,\u001b[0m \u001b[0mstra_left_wall\u001b[0m\u001b[1;33m,\u001b[0m \u001b[1;34m'left'\u001b[0m\u001b[1;33m)\u001b[0m\u001b[1;33m\u001b[0m\u001b[1;33m\u001b[0m\u001b[0m\n\u001b[1;32m---> 56\u001b[1;33m \u001b[0mblur_func\u001b[0m \u001b[1;33m=\u001b[0m \u001b[0mMirrorOnWall\u001b[0m\u001b[1;33m(\u001b[0m\u001b[0mblur_func\u001b[0m\u001b[1;33m,\u001b[0m \u001b[0mstra_right_wall\u001b[0m\u001b[1;33m,\u001b[0m \u001b[1;34m'right'\u001b[0m\u001b[1;33m)\u001b[0m\u001b[1;33m\u001b[0m\u001b[1;33m\u001b[0m\u001b[0m\n\u001b[0m\u001b[0;32m     57\u001b[0m \u001b[1;33m\u001b[0m\u001b[0m\n\u001b[0;32m     58\u001b[0m \u001b[0mplt\u001b[0m\u001b[1;33m.\u001b[0m\u001b[0mfigure\u001b[0m\u001b[1;33m(\u001b[0m\u001b[1;33m)\u001b[0m\u001b[1;33m\u001b[0m\u001b[1;33m\u001b[0m\u001b[0m\n",
      "\u001b[1;32m<ipython-input-114-ebf49053a13f>\u001b[0m in \u001b[0;36mMirrorOnWall\u001b[1;34m(image, pos_wall, rel_mirror_pos)\u001b[0m\n\u001b[0;32m     32\u001b[0m         \u001b[0mprint\u001b[0m\u001b[1;33m(\u001b[0m\u001b[1;34m\"lim 1\"\u001b[0m\u001b[1;33m,\u001b[0m \u001b[1;36m2\u001b[0m\u001b[1;33m*\u001b[0m\u001b[0mpos_wall\u001b[0m\u001b[1;33m-\u001b[0m\u001b[1;36m1\u001b[0m\u001b[1;33m)\u001b[0m\u001b[1;33m\u001b[0m\u001b[1;33m\u001b[0m\u001b[0m\n\u001b[0;32m     33\u001b[0m         \u001b[0mprint\u001b[0m\u001b[1;33m(\u001b[0m\u001b[1;34m\"lim 2\"\u001b[0m\u001b[1;33m,\u001b[0m \u001b[0mpos_wall\u001b[0m\u001b[1;33m-\u001b[0m\u001b[1;36m1\u001b[0m\u001b[1;33m)\u001b[0m\u001b[1;33m\u001b[0m\u001b[1;33m\u001b[0m\u001b[0m\n\u001b[1;32m---> 34\u001b[1;33m         \u001b[0mimage\u001b[0m\u001b[1;33m[\u001b[0m\u001b[1;33m:\u001b[0m \u001b[1;33m,\u001b[0m \u001b[1;36m2\u001b[0m\u001b[1;33m*\u001b[0m\u001b[0mpos_wall\u001b[0m\u001b[1;33m-\u001b[0m\u001b[1;36m1\u001b[0m \u001b[1;33m:\u001b[0m \u001b[0mpos_wall\u001b[0m\u001b[1;33m-\u001b[0m\u001b[1;36m1\u001b[0m\u001b[1;33m]\u001b[0m \u001b[1;33m+=\u001b[0m \u001b[0mbehind_mirror\u001b[0m\u001b[1;33m\u001b[0m\u001b[1;33m\u001b[0m\u001b[0m\n\u001b[0m\u001b[0;32m     35\u001b[0m \u001b[1;33m\u001b[0m\u001b[0m\n\u001b[0;32m     36\u001b[0m     \u001b[1;32mif\u001b[0m \u001b[0mrel_mirror_pos\u001b[0m \u001b[1;33m==\u001b[0m \u001b[1;34m'up'\u001b[0m\u001b[1;33m:\u001b[0m\u001b[1;33m\u001b[0m\u001b[1;33m\u001b[0m\u001b[0m\n",
      "\u001b[1;31mValueError\u001b[0m: operands could not be broadcast together with shapes (64,10) (64,53) (64,10) "
     ]
    }
   ],
   "source": [
    "mysize = 64\n",
    "sigma_x = 15\n",
    "sigma_y = 0\n",
    "\n",
    "point_source = np.zeros([mysize,mysize])\n",
    "point_source[int(mysize/2)-1, int(mysize/2)-1] = 1\n",
    "\n",
    "obj = np.zeros([mysize,mysize])\n",
    "\n",
    "obj[20,20] = 1\n",
    "\n",
    "kernel_x = scipy.ndimage.gaussian_filter(point_source, sigma = [sigma_y, sigma_x])\n",
    "\n",
    "blur = scipy.signal.convolve(obj, kernel_x, method='fft', mode = 'same')\n",
    "\n",
    "\n",
    "def MirrorOnWall(image, pos_wall, rel_mirror_pos):\n",
    "    #rel_mirror_pos: down, right, up or left as string\n",
    "        \n",
    "    # identiy area behind mirror\n",
    "    if rel_mirror_pos == 'left':\n",
    "        behind_mirror = image[:,:pos_wall]\n",
    "        behind_mirror = np.flip(behind_mirror,axis = 1)\n",
    "        image[:,:pos_wall] = 0\n",
    "        image[:,pos_wall+1:2*pos_wall+1] += behind_mirror\n",
    "        \n",
    "    if rel_mirror_pos == 'right':\n",
    "        pos_wall = pos_wall - image.shape[0]\n",
    "        behind_mirror = image[:,pos_wall:]\n",
    "        behind_mirror = np.flip(behind_mirror,axis = 1)      \n",
    "        image[:,pos_wall:] = 0\n",
    "        print(\"lim 1\", 2*pos_wall-1)\n",
    "        print(\"lim 2\", pos_wall-1)\n",
    "        image[: , 2*pos_wall-1 : pos_wall-1] += behind_mirror\n",
    "        \n",
    "    if rel_mirror_pos == 'up':\n",
    "        behind_mirror = image[pos_wall:,:]\n",
    "        behind_mirror = np.flip(behind_mirror,axis = 0)\n",
    "        image[pos_wall:,:] = 0\n",
    "        image[pos_wall:,:] += behind_mirror\n",
    "        \n",
    "    if rel_mirror_pos == 'down': \n",
    "        pos_wall = pos_wall - image.shape[0]\n",
    "        behind_mirror = image[:pos_wall,:]\n",
    "        behind_mirror = np.flip(behind_mirror,axis = 0)\n",
    "        image[:pos_wall,:] = 0\n",
    "        image[-2*pos_wall-1:pos_wall-1,:] += behind_mirror\n",
    "\n",
    "        \n",
    "    return image\n",
    "\n",
    "stra_left_wall = 3\n",
    "stra_right_wall = 11\n",
    "\n",
    "blur_func = MirrorOnWall(blur, stra_left_wall, 'left')\n",
    "blur_func = MirrorOnWall(blur_func, stra_right_wall, 'right')\n",
    "\n",
    "plt.figure()\n",
    "plt.imshow(blur_func)"
   ]
  },
  {
   "cell_type": "code",
   "execution_count": null,
   "metadata": {},
   "outputs": [],
   "source": []
  }
 ],
 "metadata": {
  "kernelspec": {
   "display_name": "Python 3",
   "language": "python",
   "name": "python3"
  },
  "language_info": {
   "codemirror_mode": {
    "name": "ipython",
    "version": 3
   },
   "file_extension": ".py",
   "mimetype": "text/x-python",
   "name": "python",
   "nbconvert_exporter": "python",
   "pygments_lexer": "ipython3",
   "version": "3.7.5"
  }
 },
 "nbformat": 4,
 "nbformat_minor": 4
}
