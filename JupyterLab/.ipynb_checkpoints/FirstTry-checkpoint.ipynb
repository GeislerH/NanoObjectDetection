{
 "cells": [
  {
   "cell_type": "markdown",
   "metadata": {},
   "source": [
    "# Welcome to the JupyterLab Version of the NanoObjectDetection Package"
   ]
  },
  {
   "cell_type": "markdown",
   "metadata": {},
   "source": [
    "## First Load the standard libraries"
   ]
  },
  {
   "cell_type": "code",
   "execution_count": 5,
   "metadata": {},
   "outputs": [],
   "source": [
    "# Standard Libraries\n",
    "from __future__ import division, unicode_literals, print_function # For compatibility with Python 2 and 3\n",
    "from importlib import reload # only used for debugging --> reload(package_name)\n",
    "\n",
    "# for easy debugging\n",
    "import numpy as np\n",
    "import matplotlib.pyplot as plt\n",
    "import pandas as pd\n",
    "import qgrid\n",
    "\n",
    "import sys\n",
    "import os\n",
    "sys.path.insert(0, os.path.abspath(r'C:\\Users\\foersterronny\\Documents\\GitHub'))\n",
    "\n",
    "# Own Library\n",
    "import NanoObjectDetection as nd\n",
    "\n",
    "debugger = False\n",
    "NewEvaluation = False"
   ]
  },
  {
   "cell_type": "markdown",
   "metadata": {},
   "source": [
    "## Execute this for new data"
   ]
  },
  {
   "cell_type": "code",
   "execution_count": 2,
   "metadata": {},
   "outputs": [
    {
     "name": "stdin",
     "output_type": "stream",
     "text": [
      "Is your data stored in : 1 - a single file (tif-stack) or 2 - multiple files (tif-series) (1 or 2)?  1\n",
      "Please select a number: \n",
      " The following setups are implemented           \n",
      " 1 - new           \n",
      " 2 - 5x Objective on Zeiss Microscope with Basler cam           \n",
      " 3 - 10x Objective on Zeiss Microscope with Basler cam           \n",
      "\n",
      " 1\n"
     ]
    },
    {
     "name": "stdout",
     "output_type": "stream",
     "text": [
      "Please insert setup parameters: \n",
      "\n"
     ]
    },
    {
     "name": "stdin",
     "output_type": "stream",
     "text": [
      "NA =  0.25\n",
      "Microns per pixel [um/px] =  0.3476\n",
      "gain (if unknown type 0) =  0.17\n",
      "Temperature [K] (22C = 295K) =  295\n"
     ]
    },
    {
     "name": "stdout",
     "output_type": "stream",
     "text": [
      "Please insert experimental parameters: \n",
      "\n"
     ]
    },
    {
     "name": "stdin",
     "output_type": "stream",
     "text": [
      "lambda [nm] =  532\n",
      "fps =  25\n",
      "Exposure Time [ms] =  39.7\n"
     ]
    },
    {
     "name": "stdout",
     "output_type": "stream",
     "text": [
      "Viscosity not inserted yet.\n"
     ]
    },
    {
     "name": "stdin",
     "output_type": "stream",
     "text": [
      "Channel Diameter [um] =  15\n"
     ]
    },
    {
     "name": "stdout",
     "output_type": "stream",
     "text": [
      "Here come the help functions:\n"
     ]
    },
    {
     "name": "stdin",
     "output_type": "stream",
     "text": [
      "Which help functions do you want to use?             \n",
      " 0 - none             \n",
      " 1 - auto             \n",
      " 2 - select myself \n",
      " 1\n"
     ]
    },
    {
     "name": "stdout",
     "output_type": "stream",
     "text": [
      "Switch recommended help functions on.\n",
      "Go to //mars/usr/FA2_Faseroptik/FAG24_Faseropt_Systeme/Foerster/Data/NanoObjectDetection/5er_revolver_1214b2/TrackingSetupOlympus/Coronavirus/Laser_532nm/Torsten/10xplan_N_NA0_25_39700us_25fps in the explorer and open the py-script and json parameter file.\n"
     ]
    }
   ],
   "source": [
    "if NewEvaluation == True: nd.Start.NewEvaluation()"
   ]
  },
  {
   "cell_type": "markdown",
   "metadata": {},
   "source": [
    "## path of parameter file"
   ]
  },
  {
   "cell_type": "code",
   "execution_count": 6,
   "metadata": {},
   "outputs": [],
   "source": [
    "#%% \n",
    "# this can be replaced by any json file\n",
    "ParameterJsonFile = \\\n",
    "r'\\\\mars\\usr\\FA2_Faseroptik\\FAG24_Faseropt_Systeme\\Foerster\\Data\\NanoObjectDetection\\5er_revolver_1214b2\\TrackingSetupOlympus\\Coronavirus\\Laser_532nm\\Torsten\\10xplan_N_NA0_25_39700us_25fps\\parameter.json'"
   ]
  },
  {
   "cell_type": "markdown",
   "metadata": {},
   "source": [
    "## read in the raw data into numpy"
   ]
  },
  {
   "cell_type": "code",
   "execution_count": 7,
   "metadata": {},
   "outputs": [
    {
     "name": "stdout",
     "output_type": "stream",
     "text": [
      "start reading in raw images. (That may take a while...)\n",
      "\\\\mars\\usr\\FA2_Faseroptik\\FAG24_Faseropt_Systeme\\Foerster\\Data\\NanoObjectDetection\\5er_revolver_1214b2\\TrackingSetupOlympus\\Coronavirus\\Laser_532nm\\Torsten\\10xplan_N_NA0_25_39700us_25fps\\10xplan_N_NA0_25_39700us_25fps.tif\n",
      "finishied reading in raw images =)\n"
     ]
    },
    {
     "data": {
      "application/vnd.jupyter.widget-view+json": {
       "model_id": "44d0e69a335d465284844a646f3d94a0",
       "version_major": 2,
       "version_minor": 0
      },
      "text/plain": [
       "interactive(children=(IntSlider(value=1, description='Frame', max=749, min=1), IntRangeSlider(value=(0, 199), …"
      ]
     },
     "metadata": {},
     "output_type": "display_data"
    }
   ],
   "source": [
    "rawframes_np = nd.handle_data.ReadData2Numpy(ParameterJsonFile)\n",
    "\n",
    "reload(nd.JupyterLab)\n",
    "nd.JupyterLab.Show3dImage(rawframes_np)"
   ]
  },
  {
   "cell_type": "markdown",
   "metadata": {},
   "source": [
    "## ROI - Set Parameters"
   ]
  },
  {
   "cell_type": "code",
   "execution_count": 9,
   "metadata": {},
   "outputs": [
    {
     "data": {
      "application/vnd.jupyter.widget-view+json": {
       "model_id": "35feb3f0c5ea4bc28f6e7b71f22cc960",
       "version_major": 2,
       "version_minor": 0
      },
      "text/plain": [
       "interactive(children=(IntSlider(value=0, description='Apply ROI (0 - no, 1 - yes)', max=1), Output()), _dom_cl…"
      ]
     },
     "metadata": {},
     "output_type": "display_data"
    }
   ],
   "source": [
    "reload(nd.JupyterLab)\n",
    "nd.JupyterLab.ChooseROIParameters(rawframes_np, ParameterJsonFile)"
   ]
  },
  {
   "cell_type": "markdown",
   "metadata": {},
   "source": [
    "## ROI - Apply"
   ]
  },
  {
   "cell_type": "code",
   "execution_count": 63,
   "metadata": {},
   "outputs": [
    {
     "name": "stdout",
     "output_type": "stream",
     "text": [
      "ROI IS applied\n",
      "Size rawdata (frames, height, length): (750, 200, 4096)\n",
      "Size ROI (frames, height, length): (749, 130, 4095)\n"
     ]
    }
   ],
   "source": [
    "rawframes_super = nd.handle_data.UseROI(rawframes_np, ParameterJsonFile)\n",
    "\n",
    "#ignore supersamping for the moment since it is not really used, yet"
   ]
  },
  {
   "cell_type": "markdown",
   "metadata": {},
   "source": [
    "## Standard Image Preprocessing - Set Parameters"
   ]
  },
  {
   "cell_type": "code",
   "execution_count": 109,
   "metadata": {},
   "outputs": [
    {
     "data": {
      "application/vnd.jupyter.widget-view+json": {
       "model_id": "045a8d8993c647f7829dd9baf3a6b7cb",
       "version_major": 2,
       "version_minor": 0
      },
      "text/plain": [
       "interactive(children=(IntSlider(value=0, description='Correct Laser fluctuations (0 - no, 1 - yes)', max=1), O…"
      ]
     },
     "metadata": {},
     "output_type": "display_data"
    },
    {
     "data": {
      "application/vnd.jupyter.widget-view+json": {
       "model_id": "4f630ec0385148ea9b34c01b3549524c",
       "version_major": 2,
       "version_minor": 0
      },
      "text/plain": [
       "interactive(children=(IntSlider(value=1, description='Correct camera offset (0 - no, 1 - yes)', max=1), Output…"
      ]
     },
     "metadata": {},
     "output_type": "display_data"
    },
    {
     "data": {
      "application/vnd.jupyter.widget-view+json": {
       "model_id": "124b565bf7a84965851a89208972b854",
       "version_major": 2,
       "version_minor": 0
      },
      "text/plain": [
       "interactive(children=(IntSlider(value=1, description='Correct static background (0 - no, 1 - yes)', max=1), Ou…"
      ]
     },
     "metadata": {},
     "output_type": "display_data"
    },
    {
     "name": "stdout",
     "output_type": "stream",
     "text": [
      "RollingPercentilFilter not inserted yet\n",
      "Clipping negative values not inserted yet. Clipping is bad\n"
     ]
    },
    {
     "data": {
      "application/vnd.jupyter.widget-view+json": {
       "model_id": "960ac2b1d09646bd819d7488b2fe8653",
       "version_major": 2,
       "version_minor": 0
      },
      "text/plain": [
       "interactive(children=(IntSlider(value=1, description='Enhance SNR by convolving with the PSF (0 - no, 1 - yes)…"
      ]
     },
     "metadata": {},
     "output_type": "display_data"
    },
    {
     "name": "stdout",
     "output_type": "stream",
     "text": [
      "Rotating the image is not inserted yet. Rotate your camera if that is a problem.\n"
     ]
    }
   ],
   "source": [
    "reload(nd.PreProcessing)\n",
    "reload(nd.visualize)\n",
    "reload(nd.JupyterLab)\n",
    "nd.JupyterLab.ChoosePreProcessingParameters(rawframes_super, ParameterJsonFile)"
   ]
  },
  {
   "cell_type": "markdown",
   "metadata": {},
   "source": [
    "## Standard Image Preprocessing - Apply"
   ]
  },
  {
   "cell_type": "code",
   "execution_count": 97,
   "metadata": {},
   "outputs": [
    {
     "data": {
      "application/vnd.jupyter.widget-view+json": {
       "model_id": "2e0e866d66984209816743fe68d1e8cb",
       "version_major": 2,
       "version_minor": 0
      },
      "text/plain": [
       "interactive(children=(IntRangeSlider(value=(0, 129), description='ROI - y', max=129, step=5), IntRangeSlider(v…"
      ]
     },
     "metadata": {},
     "output_type": "display_data"
    },
    {
     "data": {
      "application/vnd.jupyter.widget-view+json": {
       "model_id": "2200b4cf7921400e9f59d6a92d329792",
       "version_major": 2,
       "version_minor": 0
      },
      "text/plain": [
       "interactive(children=(IntSlider(value=1, description='Frame', max=748, min=1), IntRangeSlider(value=(0, 129), …"
      ]
     },
     "metadata": {},
     "output_type": "display_data"
    }
   ],
   "source": [
    "reload(nd.PreProcessing)\n",
    "reload(nd.JupyterLab)\n",
    "#rawframes_pre, static_background = nd.PreProcessing.Main(rawframes_super, ParameterJsonFile)\n",
    "nd.JupyterLab.Show2dImage(static_background, title = \"Raw Image\")\n",
    "nd.JupyterLab.Show3dImage(rawframes_pre, title = \"Raw Image\")"
   ]
  },
  {
   "cell_type": "markdown",
   "metadata": {},
   "source": [
    "## help with the parameters for finding objects "
   ]
  },
  {
   "cell_type": "code",
   "execution_count": 66,
   "metadata": {},
   "outputs": [
    {
     "data": {
      "application/vnd.jupyter.widget-view+json": {
       "model_id": "9b30eb6a6df5480c810ef9b36c62b979",
       "version_major": 2,
       "version_minor": 0
      },
      "text/plain": [
       "interactive(children=(Dropdown(description='Help separation distance', index=1, options=('0', 'auto'), value='…"
      ]
     },
     "metadata": {},
     "output_type": "display_data"
    },
    {
     "data": {
      "application/vnd.jupyter.widget-view+json": {
       "model_id": "2ff4959f24fb4f35aacd762dbe6ad84a",
       "version_major": 2,
       "version_minor": 0
      },
      "text/plain": [
       "interactive(children=(Dropdown(description='Help bead diameter', index=2, options=('0', 'manual', 'auto'), val…"
      ]
     },
     "metadata": {},
     "output_type": "display_data"
    },
    {
     "data": {
      "application/vnd.jupyter.widget-view+json": {
       "model_id": "7c9c554452e54ae3a15cec63891d70fd",
       "version_major": 2,
       "version_minor": 0
      },
      "text/plain": [
       "interactive(children=(Dropdown(description='Help bead minmass', index=1, options=('0', 'manual', 'auto'), valu…"
      ]
     },
     "metadata": {},
     "output_type": "display_data"
    }
   ],
   "source": [
    "settings = nd.handle_data.ReadJson(ParameterJsonFile)\n",
    "\n",
    "reload(nd.ParameterEstimation)\n",
    "reload(nd.JupyterLab)\n",
    "reload(nd.get_trajectorie)\n",
    "reload(nd.AdjustSettings)\n",
    "nd.JupyterLab.ChooseFindObjParameters(rawframes_pre, ParameterJsonFile)\n",
    "\n",
    "#nd.AdjustSettings.AdjustSettings_Main(rawframes_pre, ParameterJsonFile)"
   ]
  },
  {
   "cell_type": "markdown",
   "metadata": {},
   "source": [
    "## find the objects"
   ]
  },
  {
   "cell_type": "code",
   "execution_count": 80,
   "metadata": {},
   "outputs": [
    {
     "name": "stdout",
     "output_type": "stream",
     "text": [
      "Frame 748: 35 features\n",
      "Set all NaN in estimation precision to 0\n"
     ]
    }
   ],
   "source": [
    "reload(nd.get_trajectorie)\n",
    "obj_all = nd.get_trajectorie.FindSpots(rawframes_pre, ParameterJsonFile)\n",
    "\n",
    "# qgrid.show_grid(obj_all, show_toolbar=True)"
   ]
  },
  {
   "cell_type": "markdown",
   "metadata": {},
   "source": [
    "## identify static objects - find trajectories of very slow diffusing (maybe stationary) objects"
   ]
  },
  {
   "cell_type": "code",
   "execution_count": 81,
   "metadata": {},
   "outputs": [
    {
     "name": "stdout",
     "output_type": "stream",
     "text": [
      "Frame 748: 35 trajectories present.\n",
      "New method here.\n",
      "Minimum trajectorie length:  30.0\n",
      "Number of stationary objects (might be detected multiple times after being dark): 0\n"
     ]
    }
   ],
   "source": [
    "reload(nd.get_trajectorie)\n",
    "\n",
    "t1_orig_slow_diff = nd.get_trajectorie.link_df(obj_all, ParameterJsonFile, SearchFixedParticles = True)\n",
    "# qgrid.show_grid(t1_orig_slow_diff, show_toolbar=True)\n",
    "\n",
    "# delete trajectories which are not long enough. stationary objects have long trajcetories and survive the test   \n",
    "t2_stationary = nd.get_trajectorie.filter_stubs(t1_orig_slow_diff, ParameterJsonFile, FixedParticles = True, BeforeDriftCorrection = True)\n",
    "\n",
    "# qgrid.show_grid(t2_stationary, show_toolbar=True)"
   ]
  },
  {
   "cell_type": "markdown",
   "metadata": {},
   "source": [
    "## cut trajectories when a moving particles comes to close to a stationary object"
   ]
  },
  {
   "cell_type": "code",
   "execution_count": 69,
   "metadata": {},
   "outputs": [
    {
     "name": "stdout",
     "output_type": "stream",
     "text": [
      "min_distance to stationary object:  20\n"
     ]
    }
   ],
   "source": [
    "obj_moving = nd.get_trajectorie.RemoveSpotsInNoGoAreas(obj_all, t2_stationary, ParameterJsonFile)\n",
    "\n",
    "#qgrid.show_grid(obj_moving, show_toolbar=True)"
   ]
  },
  {
   "cell_type": "markdown",
   "metadata": {},
   "source": [
    "## remove overexposed objects"
   ]
  },
  {
   "cell_type": "code",
   "execution_count": 70,
   "metadata": {},
   "outputs": [
    {
     "name": "stdout",
     "output_type": "stream",
     "text": [
      "Deleted overexposed particles!\n"
     ]
    }
   ],
   "source": [
    "obj_moving = nd.get_trajectorie.RemoveOverexposedObjects(ParameterJsonFile, obj_moving, rawframes_pre)\n",
    "# qgrid.show_grid(obj_moving, show_toolbar=True)"
   ]
  },
  {
   "cell_type": "markdown",
   "metadata": {},
   "source": [
    "## form trajectories of valid particle positions"
   ]
  },
  {
   "cell_type": "code",
   "execution_count": 82,
   "metadata": {},
   "outputs": [
    {
     "name": "stdout",
     "output_type": "stream",
     "text": [
      "Frame 748: 35 trajectories present.\n"
     ]
    }
   ],
   "source": [
    "t1_orig = nd.get_trajectorie.link_df(obj_moving, ParameterJsonFile, SearchFixedParticles = False) \n",
    "# qgrid.show_grid(t1_orig, show_toolbar=True)"
   ]
  },
  {
   "cell_type": "markdown",
   "metadata": {},
   "source": [
    "## remove to short trajectories"
   ]
  },
  {
   "cell_type": "code",
   "execution_count": 83,
   "metadata": {},
   "outputs": [
    {
     "name": "stdout",
     "output_type": "stream",
     "text": [
      "Minimum trajectorie length:  30.0\n",
      "Too short trajectories removed!\n",
      "Before: 889, After: 16, Removed: 873 (98%)\n"
     ]
    }
   ],
   "source": [
    "t2_long = nd.get_trajectorie.filter_stubs(t1_orig, ParameterJsonFile, FixedParticles = False, BeforeDriftCorrection = True)\n",
    "# qgrid.show_grid(t2_long, show_toolbar=True)"
   ]
  },
  {
   "cell_type": "markdown",
   "metadata": {},
   "source": [
    "## identify and close gaps in the trajectory & calculate intensity fluctuations as a sign of wrong assignment"
   ]
  },
  {
   "cell_type": "code",
   "execution_count": 73,
   "metadata": {},
   "outputs": [
    {
     "name": "stdout",
     "output_type": "stream",
     "text": [
      "Close gaps in trajectories: [##################################################] 100% DONE\n"
     ]
    }
   ],
   "source": [
    "t3_gapless = nd.get_trajectorie.close_gaps(t2_long)\n",
    "t3_gapless = nd.get_trajectorie.calc_intensity_fluctuations(t3_gapless, ParameterJsonFile)\n",
    "# qgrid.show_grid(t3_gapless, show_toolbar=True)"
   ]
  },
  {
   "cell_type": "markdown",
   "metadata": {},
   "source": [
    "## split trajectories if necessary (e.g. to large intensity jumps)"
   ]
  },
  {
   "cell_type": "code",
   "execution_count": 74,
   "metadata": {},
   "outputs": [
    {
     "name": "stdout",
     "output_type": "stream",
     "text": [
      "Trajectories with risk of wrong assignments (i.e. before splitting): 16\n",
      "Trajectories with reduced risk of wrong assignments (i.e. after splitting): 16\n",
      "Number of performed trajectory splits: 0\n",
      "Number of concerned trajectories: 0 (0%)\n",
      "Number of trajectories that became too short and were filtered out: 0\n",
      "Close gaps in trajectories: [##################################################] 100% DONE\n"
     ]
    }
   ],
   "source": [
    "t4_cutted, t4_cutted_no_gaps = nd.get_trajectorie.split_traj(t2_long, t3_gapless, ParameterJsonFile)\n",
    "# qgrid.show_grid(t4_cutted, show_toolbar=True)"
   ]
  },
  {
   "cell_type": "markdown",
   "metadata": {},
   "source": [
    "## drift correction"
   ]
  },
  {
   "cell_type": "code",
   "execution_count": 84,
   "metadata": {},
   "outputs": [
    {
     "name": "stdout",
     "output_type": "stream",
     "text": [
      "The drift correction is done by averaging over:  47  frames\n",
      "Mode: global drift correction\n",
      "drift correction --> finished\n"
     ]
    }
   ],
   "source": [
    "reload(nd.Drift)\n",
    "\n",
    "t5_no_drift = nd.Drift.DriftCorrection(t4_cutted, ParameterJsonFile, PlotGlobalDrift = False)\n",
    "# qgrid.show_grid(t5_no_drift, show_toolbar=True)"
   ]
  },
  {
   "cell_type": "markdown",
   "metadata": {},
   "source": [
    "## only long trajectories are used in the msd plort in order to get a good fit"
   ]
  },
  {
   "cell_type": "code",
   "execution_count": 76,
   "metadata": {},
   "outputs": [
    {
     "name": "stdout",
     "output_type": "stream",
     "text": [
      "Minimum trajectorie length:  50.0\n",
      "Too short trajectories removed!\n",
      "Before: 16, After: 11, Removed: 5 (31%)\n",
      "particleid:  43.0\n",
      "particleid:  60.0\n",
      "particleid:  93.0\n",
      "particleid:  377.0\n",
      "particleid:  387.0\n",
      "particleid:  414.0\n",
      "particleid:  424.0\n",
      "particleid:  513.0\n",
      "particleid:  655.0\n",
      "particleid:  720.0\n",
      "particleid:  728.0\n"
     ]
    }
   ],
   "source": [
    "reload(nd.get_trajectorie)\n",
    "reload(nd.CalcDiameter)\n",
    "t6_final = nd.get_trajectorie.filter_stubs(t5_no_drift, ParameterJsonFile, FixedParticles = False, BeforeDriftCorrection = False)\n",
    "# qgrid.show_grid(t6_final, show_toolbar=True)\n",
    "\n",
    "# t5_no_drift[t5_no_drift == 4]"
   ]
  },
  {
   "cell_type": "markdown",
   "metadata": {},
   "source": [
    "## calculate the msd and process to diffusion and diameter"
   ]
  },
  {
   "cell_type": "code",
   "execution_count": 86,
   "metadata": {},
   "outputs": [
    {
     "name": "stdout",
     "output_type": "stream",
     "text": [
      "\n",
      " Particle number:  43\n",
      "Starting Diameter: 167.9nm; hindrance factor: 1.054; Corrected Diameter: 159.42nm\n",
      "\n",
      " Particle number:  60\n",
      "Starting Diameter: 181.4nm; hindrance factor: 1.057; Corrected Diameter: 171.73nm\n",
      "\n",
      " Particle number:  93\n",
      "Starting Diameter: 185.2nm; hindrance factor: 1.058; Corrected Diameter: 175.11nm\n",
      "\n",
      " Particle number:  377\n",
      "Starting Diameter: 139.8nm; hindrance factor: 1.046; Corrected Diameter: 133.66nm\n",
      "\n",
      " Particle number:  387\n",
      "Starting Diameter: 90.3nm; hindrance factor: 1.033; Corrected Diameter: 87.54nm\n",
      "\n",
      " Particle number:  414\n",
      "Starting Diameter: 211.5nm; hindrance factor: 1.064; Corrected Diameter: 198.80nm\n",
      "\n",
      " Particle number:  424\n",
      "Starting Diameter: 178.6nm; hindrance factor: 1.056; Corrected Diameter: 169.13nm\n",
      "\n",
      " Particle number:  513\n",
      "Starting Diameter: 187.9nm; hindrance factor: 1.058; Corrected Diameter: 177.60nm\n",
      "\n",
      " Particle number:  655\n",
      "Starting Diameter: 205.6nm; hindrance factor: 1.063; Corrected Diameter: 193.53nm\n",
      "\n",
      " Particle number:  720\n",
      "Starting Diameter: 110.1nm; hindrance factor: 1.038; Corrected Diameter: 106.14nm\n",
      "\n",
      " Particle number:  728\n",
      "Starting Diameter: 167.0nm; hindrance factor: 1.053; Corrected Diameter: 158.57nm\n"
     ]
    },
    {
     "data": {
      "application/vnd.jupyter.widget-view+json": {
       "model_id": "7c82879fcbda449fa46bd872335b6ef8",
       "version_major": 2,
       "version_minor": 0
      },
      "text/plain": [
       "QgridWidget(grid_options={'fullWidthRows': True, 'syncColumnCellResize': True, 'forceFitColumns': True, 'defau…"
      ]
     },
     "metadata": {},
     "output_type": "display_data"
    },
    {
     "data": {
      "image/png": "[encoded data removed]",
      "text/plain": [
       "<Figure size 576x432 with 1 Axes>"
      ]
     },
     "metadata": {
      "needs_background": "light"
     },
     "output_type": "display_data"
    }
   ],
   "source": [
    "reload(nd.CalcDiameter)\n",
    "sizes_df_lin, sizes_df_lin_rolling , any_successful_check = nd.CalcDiameter.Main(t6_final, ParameterJsonFile, obj_all, MSD_fit_Show = True)\n",
    "qgrid.show_grid(sizes_df_lin, show_toolbar=True)"
   ]
  },
  {
   "cell_type": "markdown",
   "metadata": {},
   "source": [
    "## visualiz results"
   ]
  },
  {
   "cell_type": "code",
   "execution_count": 79,
   "metadata": {},
   "outputs": [
    {
     "name": "stdout",
     "output_type": "stream",
     "text": [
      "dpi = 300\n",
      "Figure saved at: \\\\mars\\usr\\FA2_Faseroptik\\FAG24_Faseropt_Systeme\\Foerster\\Data\\NanoObjectDetection\\5er_revolver_1214b2\\TrackingSetupOlympus\\Coronavirus\\Laser_532nm\\Torsten\\10xplan_N_NA0_25_39700us_25fps\\analysis\\200525\\\n",
      "mean_diam_part =  159.423542302756\n",
      "mean_diam_part =  171.7339533177777\n",
      "mean_diam_part =  175.11080883314736\n",
      "mean_diam_part =  133.65929192900796\n",
      "mean_diam_part =  87.54473359048491\n",
      "mean_diam_part =  198.80154553708127\n",
      "mean_diam_part =  169.12772302889542\n",
      "mean_diam_part =  177.5950668619054\n",
      "mean_diam_part =  193.5279755936936\n",
      "mean_diam_part =  106.143361230695\n",
      "mean_diam_part =  158.5730576615728\n",
      "\n",
      "\n",
      " mean diameter:  170.2\n",
      "68CI Intervall:  [120.7 224.1] \n",
      "\n",
      "\n",
      "dpi = 300\n",
      "Figure saved at: \\\\mars\\usr\\FA2_Faseroptik\\FAG24_Faseropt_Systeme\\Foerster\\Data\\NanoObjectDetection\\5er_revolver_1214b2\\TrackingSetupOlympus\\Coronavirus\\Laser_532nm\\Torsten\\10xplan_N_NA0_25_39700us_25fps\\analysis\\200525\\\n"
     ]
    },
    {
     "data": {
      "image/png": "[encoded data removed]",
      "text/plain": [
       "<Figure size 576x432 with 1 Axes>"
      ]
     },
     "metadata": {
      "needs_background": "light"
     },
     "output_type": "display_data"
    },
    {
     "data": {
      "image/png": "[encoded data removed]",
      "text/plain": [
       "<Figure size 576x432 with 1 Axes>"
      ]
     },
     "metadata": {
      "needs_background": "light"
     },
     "output_type": "display_data"
    }
   ],
   "source": [
    "nd.visualize.PlotDiameters(ParameterJsonFile, sizes_df_lin, any_successful_check)"
   ]
  },
  {
   "cell_type": "code",
   "execution_count": null,
   "metadata": {},
   "outputs": [],
   "source": [
    "fig = plt.figure()\n",
    "import matplotlib.colors as colors\n"
   ]
  },
  {
   "cell_type": "code",
   "execution_count": null,
   "metadata": {},
   "outputs": [],
   "source": [
    "from ipywidgets import IntSlider, IntRangeSlider, FloatLogSlider\n",
    "import matplotlib.colors as colors\n",
    "\n",
    "[max_f, max_y, max_x] = np.asarray(rawframes_ROI.shape) - 1\n",
    "\n",
    "def ShowRawImage(frame, y_range, x_range, my_gamma):  \n",
    "    \n",
    "    fig, axes = plt.subplots(3,1, sharex = True,figsize=(15,10))\n",
    "    \n",
    "    y_min = y_range[0]\n",
    "    y_max = y_range[1]+1\n",
    "    x_min = x_range[0]\n",
    "    x_max = x_range[1]+1\n",
    "     \n",
    "    axes[0].imshow(rawframes_ROI[frame,y_min:y_max, x_min:x_max], cmap = 'gray', norm=colors.PowerNorm(gamma=my_gamma))\n",
    "    axes[0].set_title(\"Raw Image\")\n",
    "    axes[0].set_ylabel(\"y [Px]\")\n",
    "    \n",
    "    axes[1].imshow(static_background[y_min:y_max, x_min:x_max], cmap = 'gray', norm=colors.PowerNorm(gamma=my_gamma))\n",
    "    axes[1].set_title(\"Background\")\n",
    "    axes[1].set_ylabel(\"y [Px]\")\n",
    "    \n",
    "    axes[2].imshow(rawframes_pre[frame, y_min:y_max, x_min:x_max], cmap = 'gray', norm=colors.PowerNorm(gamma=my_gamma))\n",
    "    axes[2].set_title(\"Corrected Background\")\n",
    "    axes[2].set_xlabel(\"x [Px]\")\n",
    "    axes[2].set_ylabel(\"y [Px]\")    \n",
    "    \n",
    "    fig.tight_layout()\n",
    "    \n",
    "    \n",
    "frame_slider = IntSlider(min = 1, max = max_f, description = \"Frame\")    \n",
    "y_range_slider = IntRangeSlider(value=[0, max_y], min=0, max=max_y, description = \"ROI - y\")\n",
    "x_range_slider = IntRangeSlider(value=[0, max_x], min=0, max=max_x, description = \"ROI - x\")\n",
    "gamma_slider = FloatSlider(min = 0.1, max = 2, step = 0.05, value = 1)  \n",
    "    \n",
    "interact(ShowRawImage, frame = frame_slider, y_range = y_range_slider, x_range = x_range_slider, my_gamma = gamma_slider)"
   ]
  },
  {
   "cell_type": "code",
   "execution_count": null,
   "metadata": {},
   "outputs": [],
   "source": [
    "from ipywidgets import interact, interactive, fixed, interact_manual\n",
    "import ipywidgets as widgets\n",
    "# run \"jupyter nbextension enable --py widgetsnbextension\" in anaconda prompt\n",
    "# conda install -n base -c conda-forge widgetsnbextension\n",
    "# conda install -c conda-forge nodejs\n",
    "# jupyter labextension install @jupyter-widgets/jupyterlab-manager\n",
    "\n",
    "import numpy as np\n",
    "import matplotlib.pyplot as plt\n",
    "def f(x):\n",
    "    plt.plot(np.arange(0,10), x*np.arange(0,10))\n",
    "    plt.ylim(-30,30)\n",
    "    \n",
    "interact(f, x=1)"
   ]
  },
  {
   "cell_type": "code",
   "execution_count": 96,
   "metadata": {},
   "outputs": [
    {
     "ename": "NameError",
     "evalue": "name 'sizes_df_lin' is not defined",
     "output_type": "error",
     "traceback": [
      "\u001b[1;31m---------------------------------------------------------------------------\u001b[0m",
      "\u001b[1;31mNameError\u001b[0m                                 Traceback (most recent call last)",
      "\u001b[1;32m<ipython-input-96-8615e0a0aa2b>\u001b[0m in \u001b[0;36m<module>\u001b[1;34m\u001b[0m\n\u001b[1;32m----> 1\u001b[1;33m \u001b[0msizes_df_lin\u001b[0m\u001b[1;33m\u001b[0m\u001b[1;33m\u001b[0m\u001b[0m\n\u001b[0m",
      "\u001b[1;31mNameError\u001b[0m: name 'sizes_df_lin' is not defined"
     ]
    }
   ],
   "source": []
  }
 ],
 "metadata": {
  "kernelspec": {
   "display_name": "Python 3",
   "language": "python",
   "name": "python3"
  },
  "language_info": {
   "codemirror_mode": {
    "name": "ipython",
    "version": 3
   },
   "file_extension": ".py",
   "mimetype": "text/x-python",
   "name": "python",
   "nbconvert_exporter": "python",
   "pygments_lexer": "ipython3",
   "version": "3.7.5"
  }
 },
 "nbformat": 4,
 "nbformat_minor": 4
}
