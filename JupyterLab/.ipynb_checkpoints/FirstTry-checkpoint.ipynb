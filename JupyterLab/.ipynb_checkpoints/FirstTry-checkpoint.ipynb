{
 "cells": [
  {
   "cell_type": "markdown",
   "metadata": {},
   "source": [
    "# Welcome to the JupyterLab Version of the NanoObjectDetection Package"
   ]
  },
  {
   "cell_type": "markdown",
   "metadata": {},
   "source": [
    "## First Load the standard libraries"
   ]
  },
  {
   "cell_type": "code",
   "execution_count": 25,
   "metadata": {},
   "outputs": [],
   "source": [
    "# Standard Libraries\n",
    "from __future__ import division, unicode_literals, print_function # For compatibility with Python 2 and 3\n",
    "from importlib import reload # only used for debugging --> reload(package_name)\n",
    "\n",
    "# for easy debugging\n",
    "import numpy as np\n",
    "import matplotlib.pyplot as plt\n",
    "import pandas as pd\n",
    "\n",
    "import sys\n",
    "import os\n",
    "sys.path.insert(0, os.path.abspath(r'C:\\Users\\foersterronny\\Documents\\GitHub'))\n",
    "\n",
    "# Own Library\n",
    "import NanoObjectDetection as nd"
   ]
  },
  {
   "cell_type": "markdown",
   "metadata": {},
   "source": [
    "## path of parameter file"
   ]
  },
  {
   "cell_type": "code",
   "execution_count": 2,
   "metadata": {},
   "outputs": [],
   "source": [
    "#%% \n",
    "# this can be replaced by any json file\n",
    "ParameterJsonFile = r'Z:\\Datenauswertung\\Torsten_Wieduwilt\\200420_phage_neuer_chip\\Freistrahl_SLED662nm\\50fps_19500us_1500pics\\parameter.json'"
   ]
  },
  {
   "cell_type": "markdown",
   "metadata": {},
   "source": [
    "## read in the raw data into numpy"
   ]
  },
  {
   "cell_type": "code",
   "execution_count": 12,
   "metadata": {},
   "outputs": [
    {
     "name": "stdout",
     "output_type": "stream",
     "text": [
      "start reading in raw images. (That may take a while...)\n",
      "\\\\mars\\usr\\FA2_Faseroptik\\FAG24_Faseropt_Systeme\\Foerster\\Data\\torsten\\phage_neuer_chip\\Freistrahl_SLED662nm\\50fps_19500us_1500pics.tif\n",
      "finishied reading in raw images =)\n"
     ]
    },
    {
     "data": {
      "application/vnd.jupyter.widget-view+json": {
       "model_id": "42fa9e5822014eb691ef3d9059d80510",
       "version_major": 2,
       "version_minor": 0
      },
      "text/plain": [
       "interactive(children=(IntSlider(value=1, description='Frame', max=1499, min=1), IntRangeSlider(value=(0, 99), …"
      ]
     },
     "metadata": {},
     "output_type": "display_data"
    }
   ],
   "source": [
    "rawframes_np = nd.handle_data.ReadData2Numpy(ParameterJsonFile)\n",
    "nd.JupyterLab.Show3dImage(rawframes_np)"
   ]
  },
  {
   "cell_type": "markdown",
   "metadata": {},
   "source": [
    "## choose ROI if wantend"
   ]
  },
  {
   "cell_type": "code",
   "execution_count": 95,
   "metadata": {},
   "outputs": [
    {
     "data": {
      "application/vnd.jupyter.widget-view+json": {
       "model_id": "55367d88e1564eaab0f37ea844e977aa",
       "version_major": 2,
       "version_minor": 0
      },
      "text/plain": [
       "interactive(children=(IntSlider(value=0, description='Apply ROI (0 - no, 1 - yes)', max=1), Output()), _dom_cl…"
      ]
     },
     "metadata": {},
     "output_type": "display_data"
    }
   ],
   "source": [
    "reload(nd.JupyterLab)\n",
    "nd.JupyterLab.ChooseROIParameters(rawframes_np)\n",
    "\n",
    "#import ipywidgets as widgets\n",
    "#widgets.Checkbox(description='Apply ROI', value = False)\n",
    "\n",
    "# ROI (includes a help how to find it)\n",
    "#settings = nd.handle_data.ReadJson(ParameterJsonFile)\n",
    "#if settings[\"Help\"][\"ROI\"] == 1:\n",
    "#            nd.AdjustSettings.FindROI(rawframes_np)\n",
    "\n",
    "#rawframes_ROI = nd.handle_data.UseROI(rawframes_np, ParameterJsonFile)\n",
    "\n",
    "# supersampling  \n",
    "#rawframes_super = nd.handle_data.UseSuperSampling(rawframes_ROI, ParameterJsonFile)"
   ]
  },
  {
   "cell_type": "markdown",
   "metadata": {},
   "source": [
    "## standard image preprocessing"
   ]
  },
  {
   "cell_type": "code",
   "execution_count": 5,
   "metadata": {},
   "outputs": [
    {
     "name": "stdout",
     "output_type": "stream",
     "text": [
      "Laser fluctuations: not removed\n",
      "Constant camera background: start removing\n",
      "Camera offset is:  0.0\n",
      "Constant camera background: removed\n",
      "Static background: start removing\n",
      "Static background: removed\n",
      "Rolling percentil filter: not applied\n",
      "Negative values: kept\n",
      "Convolve rawframe by PSF to enhance SNR: start removing\n",
      "Gauss Kernel in px: 1.5795839036930137\n",
      "Do it parallel\n",
      "Parallel finished\n",
      "Convolve rawframe by PSF to enhance SNR: removed\n",
      "Image Rotation: not applied\n"
     ]
    }
   ],
   "source": [
    "rawframes_pre, static_background = nd.PreProcessing.Main(rawframes_super, ParameterJsonFile)\n",
    "\n",
    "del rawframes_super"
   ]
  },
  {
   "cell_type": "markdown",
   "metadata": {},
   "source": [
    "## help with the parameters for finding objects "
   ]
  },
  {
   "cell_type": "code",
   "execution_count": 6,
   "metadata": {
    "scrolled": true
   },
   "outputs": [
    {
     "name": "stdin",
     "output_type": "stream",
     "text": [
      "What is the lower limit of diameter (in nm) you expect?\n",
      " 100\n"
     ]
    },
    {
     "name": "stdout",
     "output_type": "stream",
     "text": [
      "Maximum expected diffusion in squm per second: 4.55\n",
      "\n",
      " The distance a particle can maximal move (and identified as the same one) >Max displacement< is set to:  6\n",
      "\n",
      " The minium distances between to located particles >Separation data< is set to:  8\n",
      "\n",
      " Estimated diameter:  13\n",
      "Convolve rawframe by PSF to enhance SNR: start removing\n",
      "Gauss Kernel in px: 1.5795839036930137\n",
      "Convolve rawframe by PSF to enhance SNR: removed\n",
      "Correlate Img and PSF: Start\n"
     ]
    },
    {
     "name": "stderr",
     "output_type": "stream",
     "text": [
      "C:\\Users\\foersterronny\\AppData\\Local\\Continuum\\anaconda3\\envs\\env_nd\\lib\\site-packages\\joblib\\externals\\loky\\process_executor.py:706: UserWarning: A worker stopped while some jobs were given to the executor. This can be caused by a too short worker timeout or by a memory leak.\n",
      "  \"timeout or by a memory leak.\", UserWarning\n"
     ]
    },
    {
     "name": "stdout",
     "output_type": "stream",
     "text": [
      "Correlate Img and PSF: Finished\n",
      "separation:  8\n",
      "far too many features. enhance threshold\n",
      "far too many features. enhance threshold\n",
      "far too many features. enhance threshold\n",
      "far too many features. enhance threshold\n",
      "far too many features. enhance threshold\n",
      "far too many features. enhance threshold\n",
      "far too many features. enhance threshold\n",
      "far too many features. enhance threshold\n",
      "far too many features. enhance threshold\n",
      "far too many features. enhance threshold\n",
      "far too many features. enhance threshold\n",
      "far too many features. enhance threshold\n",
      "far too many features. enhance threshold\n",
      "far too many features. enhance threshold\n",
      "\n",
      " minmass:  709\n",
      "Found particles (trackpy):  8\n",
      "Found particles (zncc):  2\n",
      "right_found:  2\n",
      "wrong_found:  6\n",
      "Wrong to right assignment:  3.0\n",
      "Still optimizing...\n",
      "\n",
      " minmass:  717\n",
      "Found particles (trackpy):  7\n",
      "Found particles (zncc):  2\n",
      "right_found:  2\n",
      "wrong_found:  5\n",
      "Wrong to right assignment:  2.5\n",
      "Still optimizing...\n",
      "\n",
      " minmass:  725\n",
      "Found particles (trackpy):  7\n",
      "Found particles (zncc):  2\n",
      "right_found:  2\n",
      "wrong_found:  5\n",
      "Wrong to right assignment:  2.5\n",
      "Still optimizing...\n",
      "\n",
      " minmass:  733\n",
      "Found particles (trackpy):  7\n",
      "Found particles (zncc):  2\n",
      "right_found:  2\n",
      "wrong_found:  5\n",
      "Wrong to right assignment:  2.5\n",
      "Still optimizing...\n",
      "\n",
      " minmass:  741\n",
      "Found particles (trackpy):  6\n",
      "Found particles (zncc):  2\n",
      "right_found:  2\n",
      "wrong_found:  4\n",
      "Wrong to right assignment:  2.0\n",
      "Still optimizing...\n",
      "\n",
      " minmass:  749\n",
      "Found particles (trackpy):  5\n",
      "Found particles (zncc):  2\n",
      "right_found:  2\n",
      "wrong_found:  3\n",
      "Wrong to right assignment:  1.5\n",
      "Still optimizing...\n",
      "\n",
      " minmass:  757\n",
      "Found particles (trackpy):  3\n",
      "Found particles (zncc):  2\n",
      "right_found:  2\n",
      "wrong_found:  1\n",
      "Wrong to right assignment:  0.5\n",
      "Still optimizing...\n",
      "\n",
      " minmass:  765\n",
      "Found particles (trackpy):  2\n",
      "Found particles (zncc):  2\n",
      "right_found:  2\n",
      "wrong_found:  0\n",
      "Wrong to right assignment:  0.0\n",
      "Still optimizing...\n",
      "\n",
      " minmass:  773\n",
      "Found particles (trackpy):  2\n",
      "Found particles (zncc):  2\n",
      "right_found:  2\n",
      "wrong_found:  0\n",
      "Wrong to right assignment:  0.0\n",
      "Still optimizing...\n",
      "\n",
      " minmass:  781\n",
      "Found particles (trackpy):  2\n",
      "Found particles (zncc):  2\n",
      "right_found:  2\n",
      "wrong_found:  0\n",
      "Wrong to right assignment:  0.0\n",
      "Still optimizing...\n",
      "\n",
      " minmass:  789\n",
      "Found particles (trackpy):  2\n",
      "Found particles (zncc):  2\n",
      "right_found:  2\n",
      "wrong_found:  0\n",
      "Wrong to right assignment:  0.0\n",
      "Still optimizing...\n",
      "\n",
      " minmass:  797\n",
      "Found particles (trackpy):  2\n",
      "Found particles (zncc):  2\n",
      "right_found:  2\n",
      "wrong_found:  0\n",
      "Wrong to right assignment:  0.0\n",
      "Still optimizing...\n",
      "\n",
      " minmass:  805\n",
      "Found particles (trackpy):  2\n",
      "Found particles (zncc):  2\n",
      "right_found:  2\n",
      "wrong_found:  0\n",
      "Wrong to right assignment:  0.0\n",
      "Still optimizing...\n",
      "\n",
      " minmass:  814\n",
      "Found particles (trackpy):  2\n",
      "Found particles (zncc):  2\n",
      "right_found:  2\n",
      "wrong_found:  0\n",
      "Wrong to right assignment:  0.0\n",
      "Still optimizing...\n",
      "\n",
      " minmass:  823\n",
      "Found particles (trackpy):  2\n",
      "Found particles (zncc):  2\n",
      "right_found:  2\n",
      "wrong_found:  0\n",
      "Wrong to right assignment:  0.0\n",
      "Still optimizing...\n",
      "\n",
      " minmass:  832\n",
      "Found particles (trackpy):  2\n",
      "Found particles (zncc):  2\n",
      "right_found:  2\n",
      "wrong_found:  0\n",
      "Wrong to right assignment:  0.0\n",
      "Still optimizing...\n",
      "\n",
      " minmass:  841\n",
      "Found particles (trackpy):  2\n",
      "Found particles (zncc):  2\n",
      "right_found:  2\n",
      "wrong_found:  0\n",
      "Wrong to right assignment:  0.0\n",
      "Still optimizing...\n",
      "\n",
      " minmass:  850\n",
      "Found particles (trackpy):  2\n",
      "Found particles (zncc):  2\n",
      "right_found:  2\n",
      "wrong_found:  0\n",
      "Wrong to right assignment:  0.0\n",
      "Still optimizing...\n",
      "\n",
      " minmass:  859\n",
      "Found particles (trackpy):  2\n",
      "Found particles (zncc):  2\n",
      "right_found:  2\n",
      "wrong_found:  0\n",
      "Wrong to right assignment:  0.0\n",
      "Still optimizing...\n",
      "\n",
      " minmass:  868\n",
      "Found particles (trackpy):  2\n",
      "Found particles (zncc):  2\n",
      "right_found:  2\n",
      "wrong_found:  0\n",
      "Wrong to right assignment:  0.0\n",
      "Still optimizing...\n",
      "\n",
      " minmass:  877\n",
      "Found particles (trackpy):  2\n",
      "Found particles (zncc):  2\n",
      "right_found:  2\n",
      "wrong_found:  0\n",
      "Wrong to right assignment:  0.0\n",
      "Still optimizing...\n",
      "\n",
      " minmass:  886\n",
      "Found particles (trackpy):  2\n",
      "Found particles (zncc):  2\n",
      "right_found:  2\n",
      "wrong_found:  0\n",
      "Wrong to right assignment:  0.0\n",
      "Still optimizing...\n",
      "\n",
      " minmass:  895\n",
      "Found particles (trackpy):  2\n",
      "Found particles (zncc):  2\n",
      "right_found:  2\n",
      "wrong_found:  0\n",
      "Wrong to right assignment:  0.0\n",
      "Still optimizing...\n",
      "\n",
      " minmass:  904\n",
      "Found particles (trackpy):  2\n",
      "Found particles (zncc):  2\n",
      "right_found:  2\n",
      "wrong_found:  0\n",
      "Wrong to right assignment:  0.0\n",
      "Still optimizing...\n",
      "\n",
      " minmass:  914\n",
      "Found particles (trackpy):  2\n",
      "Found particles (zncc):  2\n",
      "right_found:  2\n",
      "wrong_found:  0\n",
      "Wrong to right assignment:  0.0\n",
      "Still optimizing...\n",
      "\n",
      " minmass:  924\n",
      "Found particles (trackpy):  2\n",
      "Found particles (zncc):  2\n",
      "right_found:  2\n",
      "wrong_found:  0\n",
      "Wrong to right assignment:  0.0\n",
      "Still optimizing...\n",
      "\n",
      " minmass:  934\n",
      "Found particles (trackpy):  2\n",
      "Found particles (zncc):  2\n",
      "right_found:  2\n",
      "wrong_found:  0\n",
      "Wrong to right assignment:  0.0\n",
      "Still optimizing...\n",
      "\n",
      " minmass:  944\n",
      "Found particles (trackpy):  2\n",
      "Found particles (zncc):  2\n",
      "right_found:  2\n",
      "wrong_found:  0\n",
      "Wrong to right assignment:  0.0\n",
      "Still optimizing...\n",
      "\n",
      " minmass:  954\n",
      "Found particles (trackpy):  2\n",
      "Found particles (zncc):  2\n",
      "right_found:  2\n",
      "wrong_found:  0\n",
      "Wrong to right assignment:  0.0\n",
      "Still optimizing...\n",
      "\n",
      " minmass:  964\n",
      "Found particles (trackpy):  2\n",
      "Found particles (zncc):  2\n",
      "right_found:  2\n",
      "wrong_found:  0\n",
      "Wrong to right assignment:  0.0\n",
      "Still optimizing...\n",
      "\n",
      " minmass:  974\n",
      "Found particles (trackpy):  2\n",
      "Found particles (zncc):  2\n",
      "right_found:  2\n",
      "wrong_found:  0\n",
      "Wrong to right assignment:  0.0\n",
      "Still optimizing...\n",
      "\n",
      " minmass:  984\n",
      "Found particles (trackpy):  2\n",
      "Found particles (zncc):  2\n",
      "right_found:  2\n",
      "wrong_found:  0\n",
      "Wrong to right assignment:  0.0\n",
      "Still optimizing...\n",
      "\n",
      " minmass:  994\n",
      "Found particles (trackpy):  2\n",
      "Found particles (zncc):  2\n",
      "right_found:  2\n",
      "wrong_found:  0\n",
      "Wrong to right assignment:  0.0\n",
      "Still optimizing...\n",
      "\n",
      " minmass:  1004\n",
      "Found particles (trackpy):  2\n",
      "Found particles (zncc):  2\n",
      "right_found:  2\n",
      "wrong_found:  0\n",
      "Wrong to right assignment:  0.0\n",
      "Still optimizing...\n",
      "\n",
      " minmass:  1015\n",
      "Found particles (trackpy):  2\n",
      "Found particles (zncc):  2\n",
      "right_found:  2\n",
      "wrong_found:  0\n",
      "Wrong to right assignment:  0.0\n",
      "Still optimizing...\n",
      "\n",
      " minmass:  1026\n",
      "Found particles (trackpy):  2\n",
      "Found particles (zncc):  2\n",
      "right_found:  2\n",
      "wrong_found:  0\n",
      "Wrong to right assignment:  0.0\n",
      "Still optimizing...\n",
      "\n",
      " minmass:  1037\n",
      "Found particles (trackpy):  2\n",
      "Found particles (zncc):  2\n",
      "right_found:  2\n",
      "wrong_found:  0\n",
      "Wrong to right assignment:  0.0\n",
      "Still optimizing...\n",
      "\n",
      " minmass:  1048\n",
      "Found particles (trackpy):  2\n",
      "Found particles (zncc):  2\n",
      "right_found:  2\n",
      "wrong_found:  0\n",
      "Wrong to right assignment:  0.0\n",
      "Still optimizing...\n",
      "\n",
      " minmass:  1059\n",
      "Found particles (trackpy):  2\n",
      "Found particles (zncc):  2\n",
      "right_found:  2\n",
      "wrong_found:  0\n",
      "Wrong to right assignment:  0.0\n",
      "Still optimizing...\n",
      "\n",
      " minmass:  1070\n",
      "Found particles (trackpy):  2\n",
      "Found particles (zncc):  2\n",
      "right_found:  2\n",
      "wrong_found:  0\n",
      "Wrong to right assignment:  0.0\n",
      "Still optimizing...\n",
      "\n",
      " minmass:  1081\n",
      "Found particles (trackpy):  2\n",
      "Found particles (zncc):  2\n",
      "right_found:  2\n",
      "wrong_found:  0\n",
      "Wrong to right assignment:  0.0\n",
      "Still optimizing...\n",
      "\n",
      " minmass:  1092\n",
      "Found particles (trackpy):  2\n",
      "Found particles (zncc):  2\n",
      "right_found:  2\n",
      "wrong_found:  0\n",
      "Wrong to right assignment:  0.0\n",
      "Still optimizing...\n",
      "\n",
      " minmass:  1103\n",
      "Found particles (trackpy):  2\n",
      "Found particles (zncc):  2\n",
      "right_found:  2\n",
      "wrong_found:  0\n",
      "Wrong to right assignment:  0.0\n",
      "Still optimizing...\n",
      "\n",
      " minmass:  1115\n",
      "Found particles (trackpy):  2\n",
      "Found particles (zncc):  2\n",
      "right_found:  2\n",
      "wrong_found:  0\n",
      "Wrong to right assignment:  0.0\n",
      "Still optimizing...\n",
      "\n",
      " minmass:  1127\n",
      "Found particles (trackpy):  2\n",
      "Found particles (zncc):  2\n",
      "right_found:  2\n",
      "wrong_found:  0\n",
      "Wrong to right assignment:  0.0\n",
      "Still optimizing...\n",
      "\n",
      " minmass:  1139\n",
      "Found particles (trackpy):  2\n",
      "Found particles (zncc):  2\n",
      "right_found:  2\n",
      "wrong_found:  0\n",
      "Wrong to right assignment:  0.0\n",
      "Still optimizing...\n",
      "\n",
      " minmass:  1151\n",
      "Found particles (trackpy):  2\n",
      "Found particles (zncc):  2\n",
      "right_found:  2\n",
      "wrong_found:  0\n",
      "Wrong to right assignment:  0.0\n",
      "Still optimizing...\n",
      "\n",
      " minmass:  1163\n",
      "Found particles (trackpy):  2\n",
      "Found particles (zncc):  2\n",
      "right_found:  2\n",
      "wrong_found:  0\n",
      "Wrong to right assignment:  0.0\n",
      "Still optimizing...\n",
      "\n",
      " minmass:  1175\n",
      "Found particles (trackpy):  2\n",
      "Found particles (zncc):  2\n",
      "right_found:  2\n",
      "wrong_found:  0\n",
      "Wrong to right assignment:  0.0\n",
      "Still optimizing...\n",
      "\n",
      " minmass:  1187\n",
      "Found particles (trackpy):  2\n",
      "Found particles (zncc):  2\n",
      "right_found:  2\n",
      "wrong_found:  0\n",
      "Wrong to right assignment:  0.0\n",
      "Still optimizing...\n",
      "\n",
      " minmass:  1199\n",
      "Found particles (trackpy):  2\n",
      "Found particles (zncc):  2\n",
      "right_found:  2\n",
      "wrong_found:  0\n",
      "Wrong to right assignment:  0.0\n",
      "Still optimizing...\n",
      "\n",
      " minmass:  1211\n",
      "Found particles (trackpy):  2\n",
      "Found particles (zncc):  2\n",
      "right_found:  2\n",
      "wrong_found:  0\n",
      "Wrong to right assignment:  0.0\n",
      "Still optimizing...\n",
      "\n",
      " minmass:  1224\n",
      "Found particles (trackpy):  2\n",
      "Found particles (zncc):  2\n",
      "right_found:  2\n",
      "wrong_found:  0\n",
      "Wrong to right assignment:  0.0\n",
      "Still optimizing...\n",
      "\n",
      " minmass:  1237\n",
      "Found particles (trackpy):  2\n",
      "Found particles (zncc):  2\n",
      "right_found:  2\n",
      "wrong_found:  0\n",
      "Wrong to right assignment:  0.0\n",
      "Still optimizing...\n",
      "\n",
      " minmass:  1250\n",
      "Found particles (trackpy):  2\n",
      "Found particles (zncc):  2\n",
      "right_found:  2\n",
      "wrong_found:  0\n",
      "Wrong to right assignment:  0.0\n",
      "Still optimizing...\n",
      "\n",
      " minmass:  1263\n",
      "Found particles (trackpy):  2\n",
      "Found particles (zncc):  2\n",
      "right_found:  2\n",
      "wrong_found:  0\n",
      "Wrong to right assignment:  0.0\n",
      "Still optimizing...\n",
      "\n",
      " minmass:  1276\n",
      "Found particles (trackpy):  2\n",
      "Found particles (zncc):  2\n",
      "right_found:  2\n",
      "wrong_found:  0\n",
      "Wrong to right assignment:  0.0\n",
      "Still optimizing...\n",
      "\n",
      " minmass:  1289\n",
      "Found particles (trackpy):  2\n",
      "Found particles (zncc):  2\n",
      "right_found:  2\n",
      "wrong_found:  0\n",
      "Wrong to right assignment:  0.0\n",
      "Still optimizing...\n",
      "\n",
      " minmass:  1302\n",
      "Found particles (trackpy):  2\n",
      "Found particles (zncc):  2\n",
      "right_found:  2\n",
      "wrong_found:  0\n",
      "Wrong to right assignment:  0.0\n",
      "Still optimizing...\n",
      "\n",
      " minmass:  1316\n",
      "Found particles (trackpy):  2\n",
      "Found particles (zncc):  2\n",
      "right_found:  2\n",
      "wrong_found:  0\n",
      "Wrong to right assignment:  0.0\n",
      "Still optimizing...\n",
      "\n",
      " minmass:  1330\n",
      "Found particles (trackpy):  2\n",
      "Found particles (zncc):  2\n",
      "right_found:  2\n",
      "wrong_found:  0\n",
      "Wrong to right assignment:  0.0\n",
      "Still optimizing...\n",
      "\n",
      " minmass:  1344\n",
      "Found particles (trackpy):  2\n",
      "Found particles (zncc):  2\n",
      "right_found:  2\n",
      "wrong_found:  0\n",
      "Wrong to right assignment:  0.0\n",
      "Still optimizing...\n",
      "\n",
      " minmass:  1358\n",
      "Found particles (trackpy):  2\n",
      "Found particles (zncc):  2\n",
      "right_found:  2\n",
      "wrong_found:  0\n",
      "Wrong to right assignment:  0.0\n",
      "Still optimizing...\n",
      "\n",
      " minmass:  1372\n",
      "Found particles (trackpy):  2\n",
      "Found particles (zncc):  2\n",
      "right_found:  2\n",
      "wrong_found:  0\n",
      "Wrong to right assignment:  0.0\n",
      "Still optimizing...\n",
      "\n",
      " minmass:  1386\n",
      "Found particles (trackpy):  2\n",
      "Found particles (zncc):  2\n",
      "right_found:  2\n",
      "wrong_found:  0\n",
      "Wrong to right assignment:  0.0\n",
      "Still optimizing...\n",
      "\n",
      " minmass:  1400\n",
      "Found particles (trackpy):  2\n",
      "Found particles (zncc):  2\n",
      "right_found:  2\n",
      "wrong_found:  0\n",
      "Wrong to right assignment:  0.0\n",
      "Still optimizing...\n",
      "\n",
      " minmass:  1415\n",
      "Found particles (trackpy):  2\n",
      "Found particles (zncc):  2\n",
      "right_found:  2\n",
      "wrong_found:  0\n",
      "Wrong to right assignment:  0.0\n",
      "Still optimizing...\n",
      "\n",
      " minmass:  1430\n",
      "Found particles (trackpy):  2\n",
      "Found particles (zncc):  2\n",
      "right_found:  2\n",
      "wrong_found:  0\n",
      "Wrong to right assignment:  0.0\n",
      "Still optimizing...\n",
      "\n",
      " minmass:  1445\n",
      "Found particles (trackpy):  2\n",
      "Found particles (zncc):  2\n",
      "right_found:  2\n",
      "wrong_found:  0\n",
      "Wrong to right assignment:  0.0\n",
      "Still optimizing...\n",
      "\n",
      " minmass:  1460\n",
      "Found particles (trackpy):  2\n",
      "Found particles (zncc):  2\n",
      "right_found:  2\n",
      "wrong_found:  0\n",
      "Wrong to right assignment:  0.0\n",
      "Still optimizing...\n",
      "\n",
      " minmass:  1475\n",
      "Found particles (trackpy):  2\n",
      "Found particles (zncc):  2\n",
      "right_found:  2\n",
      "wrong_found:  0\n",
      "Wrong to right assignment:  0.0\n",
      "Still optimizing...\n",
      "\n",
      " minmass:  1490\n",
      "Found particles (trackpy):  2\n",
      "Found particles (zncc):  2\n",
      "right_found:  2\n",
      "wrong_found:  0\n",
      "Wrong to right assignment:  0.0\n",
      "Still optimizing...\n",
      "\n",
      " minmass:  1505\n",
      "Found particles (trackpy):  2\n",
      "Found particles (zncc):  2\n",
      "right_found:  2\n",
      "wrong_found:  0\n",
      "Wrong to right assignment:  0.0\n",
      "Still optimizing...\n",
      "\n",
      " minmass:  1521\n",
      "Found particles (trackpy):  2\n",
      "Found particles (zncc):  2\n",
      "right_found:  2\n",
      "wrong_found:  0\n",
      "Wrong to right assignment:  0.0\n",
      "Still optimizing...\n",
      "\n",
      " minmass:  1537\n",
      "Found particles (trackpy):  2\n",
      "Found particles (zncc):  2\n",
      "right_found:  2\n",
      "wrong_found:  0\n",
      "Wrong to right assignment:  0.0\n",
      "Still optimizing...\n",
      "\n",
      " minmass:  1553\n",
      "Found particles (trackpy):  2\n",
      "Found particles (zncc):  2\n",
      "right_found:  2\n",
      "wrong_found:  0\n",
      "Wrong to right assignment:  0.0\n",
      "Still optimizing...\n",
      "\n",
      " minmass:  1569\n",
      "Found particles (trackpy):  2\n",
      "Found particles (zncc):  2\n",
      "right_found:  2\n",
      "wrong_found:  0\n",
      "Wrong to right assignment:  0.0\n",
      "Still optimizing...\n",
      "\n",
      " minmass:  1585\n",
      "Found particles (trackpy):  2\n",
      "Found particles (zncc):  2\n",
      "right_found:  2\n",
      "wrong_found:  0\n",
      "Wrong to right assignment:  0.0\n",
      "Still optimizing...\n",
      "\n",
      " minmass:  1601\n",
      "Found particles (trackpy):  2\n",
      "Found particles (zncc):  2\n",
      "right_found:  2\n",
      "wrong_found:  0\n",
      "Wrong to right assignment:  0.0\n",
      "Still optimizing...\n",
      "\n",
      " minmass:  1618\n",
      "Found particles (trackpy):  2\n",
      "Found particles (zncc):  2\n",
      "right_found:  2\n",
      "wrong_found:  0\n",
      "Wrong to right assignment:  0.0\n",
      "Still optimizing...\n",
      "\n",
      " minmass:  1635\n",
      "Found particles (trackpy):  2\n",
      "Found particles (zncc):  2\n",
      "right_found:  2\n",
      "wrong_found:  0\n",
      "Wrong to right assignment:  0.0\n",
      "Still optimizing...\n",
      "\n",
      " minmass:  1652\n",
      "Found particles (trackpy):  2\n",
      "Found particles (zncc):  2\n",
      "right_found:  2\n",
      "wrong_found:  0\n",
      "Wrong to right assignment:  0.0\n",
      "Still optimizing...\n",
      "\n",
      " minmass:  1669\n",
      "Found particles (trackpy):  2\n",
      "Found particles (zncc):  2\n",
      "right_found:  2\n",
      "wrong_found:  0\n",
      "Wrong to right assignment:  0.0\n",
      "Still optimizing...\n",
      "\n",
      " minmass:  1686\n",
      "Found particles (trackpy):  2\n",
      "Found particles (zncc):  2\n",
      "right_found:  2\n",
      "wrong_found:  0\n",
      "Wrong to right assignment:  0.0\n",
      "Still optimizing...\n",
      "\n",
      " minmass:  1703\n",
      "Found particles (trackpy):  2\n",
      "Found particles (zncc):  2\n",
      "right_found:  2\n",
      "wrong_found:  0\n",
      "Wrong to right assignment:  0.0\n",
      "Still optimizing...\n",
      "\n",
      " minmass:  1721\n",
      "Found particles (trackpy):  2\n",
      "Found particles (zncc):  2\n",
      "right_found:  2\n",
      "wrong_found:  0\n",
      "Wrong to right assignment:  0.0\n",
      "Still optimizing...\n",
      "\n",
      " minmass:  1739\n",
      "Found particles (trackpy):  2\n",
      "Found particles (zncc):  2\n",
      "right_found:  2\n",
      "wrong_found:  0\n",
      "Wrong to right assignment:  0.0\n",
      "Still optimizing...\n",
      "\n",
      " minmass:  1757\n",
      "Found particles (trackpy):  2\n",
      "Found particles (zncc):  2\n",
      "right_found:  2\n",
      "wrong_found:  0\n",
      "Wrong to right assignment:  0.0\n",
      "Still optimizing...\n",
      "\n",
      " minmass:  1775\n",
      "Found particles (trackpy):  2\n",
      "Found particles (zncc):  2\n",
      "right_found:  2\n",
      "wrong_found:  0\n",
      "Wrong to right assignment:  0.0\n",
      "Still optimizing...\n",
      "\n",
      " minmass:  1793\n",
      "Found particles (trackpy):  2\n",
      "Found particles (zncc):  2\n",
      "right_found:  2\n",
      "wrong_found:  0\n",
      "Wrong to right assignment:  0.0\n",
      "Still optimizing...\n",
      "\n",
      " minmass:  1811\n",
      "Found particles (trackpy):  2\n",
      "Found particles (zncc):  2\n",
      "right_found:  2\n",
      "wrong_found:  0\n",
      "Wrong to right assignment:  0.0\n",
      "Still optimizing...\n",
      "\n",
      " minmass:  1830\n",
      "Found particles (trackpy):  2\n",
      "Found particles (zncc):  2\n",
      "right_found:  2\n",
      "wrong_found:  0\n",
      "Wrong to right assignment:  0.0\n",
      "Still optimizing...\n",
      "\n",
      " minmass:  1849\n",
      "Found particles (trackpy):  2\n",
      "Found particles (zncc):  2\n",
      "right_found:  2\n",
      "wrong_found:  0\n",
      "Wrong to right assignment:  0.0\n",
      "Still optimizing...\n",
      "\n",
      " minmass:  1868\n",
      "Found particles (trackpy):  2\n",
      "Found particles (zncc):  2\n",
      "right_found:  2\n",
      "wrong_found:  0\n",
      "Wrong to right assignment:  0.0\n",
      "Still optimizing...\n",
      "\n",
      " minmass:  1887\n",
      "Found particles (trackpy):  2\n",
      "Found particles (zncc):  2\n",
      "right_found:  2\n",
      "wrong_found:  0\n",
      "Wrong to right assignment:  0.0\n",
      "Still optimizing...\n",
      "\n",
      " minmass:  1906\n",
      "Found particles (trackpy):  2\n",
      "Found particles (zncc):  2\n",
      "right_found:  2\n",
      "wrong_found:  0\n",
      "Wrong to right assignment:  0.0\n",
      "Still optimizing...\n",
      "\n",
      " minmass:  1926\n",
      "Found particles (trackpy):  2\n",
      "Found particles (zncc):  2\n",
      "right_found:  2\n",
      "wrong_found:  0\n",
      "Wrong to right assignment:  0.0\n",
      "Still optimizing...\n",
      "Particle found in ZNCC but not with trackpy\n",
      "Problem with particle:  0\n",
      "Position:  [ 46. 385.]\n",
      "Closest point:  276.6726754960267\n",
      "\n",
      " minmass:  1946\n",
      "Found particles (trackpy):  1\n",
      "Found particles (zncc):  2\n",
      "right_found:  1\n",
      "wrong_found:  1\n",
      "Wrong to right assignment:  1.0\n",
      "Still optimizing...\n",
      "TrackPy finds much less particles than the zncc\n",
      "\n",
      " Optimized Minmass threshold is:  688 \n",
      "\n",
      "The drift correction is done by averaging over:  14  frames\n"
     ]
    },
    {
     "data": {
      "image/png": "[encoded data removed]",
      "text/plain": [
       "<Figure size 576x432 with 1 Axes>"
      ]
     },
     "metadata": {
      "needs_background": "light"
     },
     "output_type": "display_data"
    },
    {
     "data": {
      "image/png": "[encoded data removed]",
      "text/plain": [
       "<Figure size 576x432 with 3 Axes>"
      ]
     },
     "metadata": {
      "needs_background": "light"
     },
     "output_type": "display_data"
    }
   ],
   "source": [
    "settings = nd.handle_data.ReadJson(ParameterJsonFile)\n",
    "\n",
    "nd.AdjustSettings.AdjustSettings_Main(rawframes_pre, ParameterJsonFile)"
   ]
  },
  {
   "cell_type": "markdown",
   "metadata": {},
   "source": [
    "## find the objects"
   ]
  },
  {
   "cell_type": "code",
   "execution_count": 7,
   "metadata": {
    "scrolled": true
   },
   "outputs": [
    {
     "name": "stdout",
     "output_type": "stream",
     "text": [
      "Frame 299: 4 features\n",
      "Set all NaN in estimation precision to 0\n"
     ]
    },
    {
     "data": {
      "image/png": "[encoded data removed]",
      "text/plain": [
       "<Figure size 576x432 with 1 Axes>"
      ]
     },
     "metadata": {
      "needs_background": "light"
     },
     "output_type": "display_data"
    }
   ],
   "source": [
    "obj_all = nd.get_trajectorie.FindSpots(rawframes_pre, ParameterJsonFile)"
   ]
  },
  {
   "cell_type": "markdown",
   "metadata": {},
   "source": [
    "## identify static objects"
   ]
  },
  {
   "cell_type": "code",
   "execution_count": 10,
   "metadata": {},
   "outputs": [
    {
     "name": "stdout",
     "output_type": "stream",
     "text": [
      "Frame 299: 4 trajectories present.\n",
      "New method here.\n",
      "Minimum trajectorie length:  30.0\n",
      "Number of stationary objects (might be detected multiple times after being dark): 0\n"
     ]
    }
   ],
   "source": [
    "# find trajectories of very slow diffusing (maybe stationary) objects\n",
    "t1_orig_slow_diff = nd.get_trajectorie.link_df(obj_all, ParameterJsonFile, SearchFixedParticles = True)\n",
    "\n",
    "# delete trajectories which are not long enough. stationary objects have long trajcetories and survive the test   \n",
    "t2_stationary = nd.get_trajectorie.filter_stubs(t1_orig_slow_diff, ParameterJsonFile, FixedParticles = True, BeforeDriftCorrection = True)\n",
    "\n"
   ]
  },
  {
   "cell_type": "markdown",
   "metadata": {},
   "source": [
    "## cut trajectories when a moving particles comes to close to a stationary object"
   ]
  },
  {
   "cell_type": "code",
   "execution_count": 11,
   "metadata": {},
   "outputs": [
    {
     "name": "stdout",
     "output_type": "stream",
     "text": [
      "min_distance to stationary object:  20\n"
     ]
    }
   ],
   "source": [
    "obj_moving = nd.get_trajectorie.RemoveSpotsInNoGoAreas(obj_all, t2_stationary, ParameterJsonFile)"
   ]
  },
  {
   "cell_type": "markdown",
   "metadata": {},
   "source": [
    "## remove overexposed objects"
   ]
  },
  {
   "cell_type": "code",
   "execution_count": 12,
   "metadata": {},
   "outputs": [
    {
     "name": "stdout",
     "output_type": "stream",
     "text": [
      "Deleted overexposed particles!\n"
     ]
    }
   ],
   "source": [
    "obj_moving = nd.get_trajectorie.RemoveOverexposedObjects(ParameterJsonFile, obj_moving, rawframes_pre)"
   ]
  },
  {
   "cell_type": "markdown",
   "metadata": {},
   "source": [
    "## form trajectories of valid particle positions"
   ]
  },
  {
   "cell_type": "code",
   "execution_count": 13,
   "metadata": {},
   "outputs": [
    {
     "name": "stdout",
     "output_type": "stream",
     "text": [
      "Frame 299: 4 trajectories present.\n"
     ]
    }
   ],
   "source": [
    "t1_orig = nd.get_trajectorie.link_df(obj_moving, ParameterJsonFile, SearchFixedParticles = False) "
   ]
  },
  {
   "cell_type": "markdown",
   "metadata": {},
   "source": [
    "## remove to short trajectories"
   ]
  },
  {
   "cell_type": "code",
   "execution_count": 14,
   "metadata": {},
   "outputs": [
    {
     "name": "stdout",
     "output_type": "stream",
     "text": [
      "Minimum trajectorie length:  30.0\n",
      "Too short trajectories removed!\n",
      "Before: 1124, After: 5, Removed: 1119 (99%)\n"
     ]
    }
   ],
   "source": [
    "t2_long = nd.get_trajectorie.filter_stubs(t1_orig, ParameterJsonFile, FixedParticles = False, BeforeDriftCorrection = True)"
   ]
  },
  {
   "cell_type": "markdown",
   "metadata": {},
   "source": [
    "## identify and close gaps in the trajectory"
   ]
  },
  {
   "cell_type": "code",
   "execution_count": 15,
   "metadata": {},
   "outputs": [
    {
     "name": "stdout",
     "output_type": "stream",
     "text": [
      "Close gaps in trajectories: [##################################################] 100% DONE\n"
     ]
    }
   ],
   "source": [
    "t3_gapless = nd.get_trajectorie.close_gaps(t2_long)"
   ]
  },
  {
   "cell_type": "markdown",
   "metadata": {},
   "source": [
    "## calculate intensity fluctuations as a sign of wrong assignment"
   ]
  },
  {
   "cell_type": "code",
   "execution_count": 16,
   "metadata": {},
   "outputs": [],
   "source": [
    "t3_gapless = nd.get_trajectorie.calc_intensity_fluctuations(t3_gapless, ParameterJsonFile)"
   ]
  },
  {
   "cell_type": "markdown",
   "metadata": {},
   "source": [
    "## split trajectories if necessary (e.g. to large intensity jumps)"
   ]
  },
  {
   "cell_type": "code",
   "execution_count": 17,
   "metadata": {},
   "outputs": [
    {
     "name": "stdout",
     "output_type": "stream",
     "text": [
      "Trajectories with risk of wrong assignments (i.e. before splitting): 5\n",
      "Trajectories with reduced risk of wrong assignments (i.e. after splitting): 5\n",
      "Number of performed trajectory splits: 0\n",
      "Number of concerned trajectories: 0 (0%)\n",
      "Number of trajectories that became too short and were filtered out: 0\n",
      "Close gaps in trajectories: [##################################################] 100% DONE\n"
     ]
    }
   ],
   "source": [
    "t4_cutted, t4_cutted_no_gaps = nd.get_trajectorie.split_traj(t2_long, t3_gapless, ParameterJsonFile)"
   ]
  },
  {
   "cell_type": "markdown",
   "metadata": {},
   "source": [
    "## drift correction"
   ]
  },
  {
   "cell_type": "code",
   "execution_count": 18,
   "metadata": {},
   "outputs": [
    {
     "name": "stdout",
     "output_type": "stream",
     "text": [
      "The drift correction is done by averaging over:  55  frames\n",
      "Mode: global drift correction\n",
      "drift correction --> finished\n"
     ]
    }
   ],
   "source": [
    "t5_no_drift = nd.Drift.DriftCorrection(t4_cutted, ParameterJsonFile, PlotGlobalDrift = False)"
   ]
  },
  {
   "cell_type": "markdown",
   "metadata": {},
   "source": [
    "## only long trajectories are used in the msd plort in order to get a good fit"
   ]
  },
  {
   "cell_type": "code",
   "execution_count": 19,
   "metadata": {},
   "outputs": [
    {
     "name": "stdout",
     "output_type": "stream",
     "text": [
      "Minimum trajectorie length:  150.0\n",
      "Too short trajectories removed!\n",
      "Before: 5, After: 1, Removed: 4 (80%)\n"
     ]
    }
   ],
   "source": [
    "t6_final = nd.get_trajectorie.filter_stubs(t5_no_drift, ParameterJsonFile, FixedParticles = False, BeforeDriftCorrection = False)"
   ]
  },
  {
   "cell_type": "markdown",
   "metadata": {},
   "source": [
    "## calculate the msd and process to diffusion and diameter"
   ]
  },
  {
   "cell_type": "code",
   "execution_count": 20,
   "metadata": {},
   "outputs": [
    {
     "name": "stdout",
     "output_type": "stream",
     "text": [
      "\n",
      " Particle number:  4\n",
      "p_min before =  30\n",
      "p_min after  =  2\n",
      "p_min final =  2\n",
      "Starting Diameter: 167.3nm; hindrance factor: 1.027; Corrected Diameter: 162.94nm\n"
     ]
    },
    {
     "data": {
      "image/png": "[encoded data removed]",
      "text/plain": [
       "<Figure size 576x432 with 1 Axes>"
      ]
     },
     "metadata": {
      "needs_background": "light"
     },
     "output_type": "display_data"
    }
   ],
   "source": [
    "sizes_df_lin, sizes_df_lin_rolling , any_successful_check = nd.CalcDiameter.Main(t6_final, ParameterJsonFile, obj_all, MSD_fit_Show = True)"
   ]
  },
  {
   "cell_type": "markdown",
   "metadata": {},
   "source": [
    "## visualiz results"
   ]
  },
  {
   "cell_type": "code",
   "execution_count": 21,
   "metadata": {},
   "outputs": [
    {
     "name": "stdout",
     "output_type": "stream",
     "text": [
      "dpi = 300\n",
      "Figure saved at: Z:\\Datenauswertung\\Torsten_Wieduwilt\\200420_phage_neuer_chip\\Freistrahl_SLED662nm\\50fps_19500us_1500pics\\analysis\\200427\\\n",
      "mean_diam_part =  162.93671838316686\n",
      "\n",
      "\n",
      " mean diameter:  165.2\n",
      "68CI Intervall:  [152.5 180.2] \n",
      "\n",
      "\n",
      "dpi = 300\n"
     ]
    },
    {
     "name": "stderr",
     "output_type": "stream",
     "text": [
      "C:\\Users\\foersterronny\\Documents\\GitHub\\NanoObjectDetection\\visualize.py:622: RuntimeWarning: divide by zero encountered in true_divide\n",
      "  diam_grid_inv = 1/diam_grid\n"
     ]
    },
    {
     "name": "stdout",
     "output_type": "stream",
     "text": [
      "Figure saved at: Z:\\Datenauswertung\\Torsten_Wieduwilt\\200420_phage_neuer_chip\\Freistrahl_SLED662nm\\50fps_19500us_1500pics\\analysis\\200427\\\n"
     ]
    },
    {
     "data": {
      "image/png": "[encoded data removed]",
      "text/plain": [
       "<Figure size 576x432 with 1 Axes>"
      ]
     },
     "metadata": {
      "needs_background": "light"
     },
     "output_type": "display_data"
    },
    {
     "data": {
      "image/png": "[encoded data removed]",
      "text/plain": [
       "<Figure size 576x432 with 1 Axes>"
      ]
     },
     "metadata": {
      "needs_background": "light"
     },
     "output_type": "display_data"
    }
   ],
   "source": [
    "nd.visualize.PlotDiameters(ParameterJsonFile, sizes_df_lin, any_successful_check)"
   ]
  },
  {
   "cell_type": "code",
   "execution_count": 22,
   "metadata": {},
   "outputs": [
    {
     "data": {
      "text/plain": [
       "<Figure size 576x432 with 0 Axes>"
      ]
     },
     "metadata": {},
     "output_type": "display_data"
    }
   ],
   "source": [
    "fig = plt.figure()\n",
    "import matplotlib.colors as colors\n"
   ]
  },
  {
   "cell_type": "code",
   "execution_count": 174,
   "metadata": {},
   "outputs": [
    {
     "data": {
      "application/vnd.jupyter.widget-view+json": {
       "model_id": "00545559914b4612bc3229e831bd4103",
       "version_major": 2,
       "version_minor": 0
      },
      "text/plain": [
       "interactive(children=(IntSlider(value=1, description='Frame', max=299, min=1), IntRangeSlider(value=(0, 99), d…"
      ]
     },
     "metadata": {},
     "output_type": "display_data"
    },
    {
     "data": {
      "text/plain": [
       "<function __main__.ShowRawImage(frame, y_range, x_range, my_gamma)>"
      ]
     },
     "execution_count": 174,
     "metadata": {},
     "output_type": "execute_result"
    }
   ],
   "source": [
    "from ipywidgets import IntSlider, IntRangeSlider, FloatLogSlider\n",
    "import matplotlib.colors as colors\n",
    "\n",
    "[max_f, max_y, max_x] = np.asarray(rawframes_ROI.shape) - 1\n",
    "\n",
    "def ShowRawImage(frame, y_range, x_range, my_gamma):  \n",
    "    \n",
    "    fig, axes = plt.subplots(3,1, sharex = True,figsize=(15,10))\n",
    "    \n",
    "    y_min = y_range[0]\n",
    "    y_max = y_range[1]+1\n",
    "    x_min = x_range[0]\n",
    "    x_max = x_range[1]+1\n",
    "     \n",
    "    axes[0].imshow(rawframes_ROI[frame,y_min:y_max, x_min:x_max], cmap = 'gray', norm=colors.PowerNorm(gamma=my_gamma))\n",
    "    axes[0].set_title(\"Raw Image\")\n",
    "    axes[0].set_ylabel(\"y [Px]\")\n",
    "    \n",
    "    axes[1].imshow(static_background[y_min:y_max, x_min:x_max], cmap = 'gray', norm=colors.PowerNorm(gamma=my_gamma))\n",
    "    axes[1].set_title(\"Background\")\n",
    "    axes[1].set_ylabel(\"y [Px]\")\n",
    "    \n",
    "    axes[2].imshow(rawframes_pre[frame, y_min:y_max, x_min:x_max], cmap = 'gray', norm=colors.PowerNorm(gamma=my_gamma))\n",
    "    axes[2].set_title(\"Corrected Background\")\n",
    "    axes[2].set_xlabel(\"x [Px]\")\n",
    "    axes[2].set_ylabel(\"y [Px]\")    \n",
    "    \n",
    "    fig.tight_layout()\n",
    "    \n",
    "    \n",
    "frame_slider = IntSlider(min = 1, max = max_f, description = \"Frame\")    \n",
    "y_range_slider = IntRangeSlider(value=[0, max_y], min=0, max=max_y, description = \"ROI - y\")\n",
    "x_range_slider = IntRangeSlider(value=[0, max_x], min=0, max=max_x, description = \"ROI - x\")\n",
    "gamma_slider = FloatSlider(min = 0.1, max = 2, step = 0.05, value = 1)  \n",
    "    \n",
    "interact(ShowRawImage, frame = frame_slider, y_range = y_range_slider, x_range = x_range_slider, my_gamma = gamma_slider)"
   ]
  },
  {
   "cell_type": "code",
   "execution_count": 8,
   "metadata": {},
   "outputs": [
    {
     "data": {
      "application/vnd.jupyter.widget-view+json": {
       "model_id": "23ebc6b79b4543b08f8f31d8fa84f05c",
       "version_major": 2,
       "version_minor": 0
      },
      "text/plain": [
       "interactive(children=(IntSlider(value=1, description='x', max=3, min=-1), Output()), _dom_classes=('widget-int…"
      ]
     },
     "metadata": {},
     "output_type": "display_data"
    },
    {
     "data": {
      "text/plain": [
       "<function __main__.f(x)>"
      ]
     },
     "execution_count": 8,
     "metadata": {},
     "output_type": "execute_result"
    }
   ],
   "source": [
    "from ipywidgets import interact, interactive, fixed, interact_manual\n",
    "import ipywidgets as widgets\n",
    "# run \"jupyter nbextension enable --py widgetsnbextension\" in anaconda prompt\n",
    "# conda install -n base -c conda-forge widgetsnbextension\n",
    "# conda install -c conda-forge nodejs\n",
    "# jupyter labextension install @jupyter-widgets/jupyterlab-manager\n",
    "\n",
    "import numpy as np\n",
    "import matplotlib.pyplot as plt\n",
    "def f(x):\n",
    "    plt.plot(np.arange(0,10), x*np.arange(0,10))\n",
    "    plt.ylim(-30,30)\n",
    "    \n",
    "interact(f, x=1)"
   ]
  },
  {
   "cell_type": "code",
   "execution_count": null,
   "metadata": {},
   "outputs": [],
   "source": []
  }
 ],
 "metadata": {
  "kernelspec": {
   "display_name": "Python 3",
   "language": "python",
   "name": "python3"
  },
  "language_info": {
   "codemirror_mode": {
    "name": "ipython",
    "version": 3
   },
   "file_extension": ".py",
   "mimetype": "text/x-python",
   "name": "python",
   "nbconvert_exporter": "python",
   "pygments_lexer": "ipython3",
   "version": "3.7.5"
  }
 },
 "nbformat": 4,
 "nbformat_minor": 4
}
